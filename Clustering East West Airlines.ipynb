{
 "cells": [
  {
   "cell_type": "markdown",
   "id": "927c5669",
   "metadata": {},
   "source": [
    "# Clustering for EastWestAirlines"
   ]
  },
  {
   "cell_type": "code",
   "execution_count": 1,
   "id": "fb7e82f4",
   "metadata": {
    "ExecuteTime": {
     "end_time": "2023-03-04T06:19:41.883274Z",
     "start_time": "2023-03-04T06:19:40.346508Z"
    }
   },
   "outputs": [],
   "source": [
    "import pandas as pd\n",
    "import numpy as np\n",
    "import scipy.cluster.hierarchy as sch\n",
    "from matplotlib import pyplot as plt\n",
    "import seaborn as sn\n",
    "from sklearn.cluster import KMeans\n",
    "from sklearn.cluster import DBSCAN\n",
    "from sklearn.cluster import AgglomerativeClustering\n",
    "import warnings \n",
    "warnings.filterwarnings(\"ignore\")"
   ]
  },
  {
   "cell_type": "code",
   "execution_count": 19,
   "id": "cc61cc03",
   "metadata": {
    "ExecuteTime": {
     "end_time": "2023-03-04T06:35:06.652485Z",
     "start_time": "2023-03-04T06:35:06.371755Z"
    }
   },
   "outputs": [],
   "source": [
    "#import the eastwestairlines data\\\n",
    "air=pd.read_excel(\"D:\\\\Gurumurthy Assignments\\\\clustering\\\\EastWestAirlines.xlsx\",1)"
   ]
  },
  {
   "cell_type": "code",
   "execution_count": 20,
   "id": "731ce259",
   "metadata": {
    "ExecuteTime": {
     "end_time": "2023-03-04T06:35:11.657518Z",
     "start_time": "2023-03-04T06:35:11.633368Z"
    }
   },
   "outputs": [
    {
     "data": {
      "text/html": [
       "<div>\n",
       "<style scoped>\n",
       "    .dataframe tbody tr th:only-of-type {\n",
       "        vertical-align: middle;\n",
       "    }\n",
       "\n",
       "    .dataframe tbody tr th {\n",
       "        vertical-align: top;\n",
       "    }\n",
       "\n",
       "    .dataframe thead th {\n",
       "        text-align: right;\n",
       "    }\n",
       "</style>\n",
       "<table border=\"1\" class=\"dataframe\">\n",
       "  <thead>\n",
       "    <tr style=\"text-align: right;\">\n",
       "      <th></th>\n",
       "      <th>ID#</th>\n",
       "      <th>Balance</th>\n",
       "      <th>Qual_miles</th>\n",
       "      <th>cc1_miles</th>\n",
       "      <th>cc2_miles</th>\n",
       "      <th>cc3_miles</th>\n",
       "      <th>Bonus_miles</th>\n",
       "      <th>Bonus_trans</th>\n",
       "      <th>Flight_miles_12mo</th>\n",
       "      <th>Flight_trans_12</th>\n",
       "      <th>Days_since_enroll</th>\n",
       "      <th>Award?</th>\n",
       "    </tr>\n",
       "  </thead>\n",
       "  <tbody>\n",
       "    <tr>\n",
       "      <th>0</th>\n",
       "      <td>1</td>\n",
       "      <td>28143</td>\n",
       "      <td>0</td>\n",
       "      <td>1</td>\n",
       "      <td>1</td>\n",
       "      <td>1</td>\n",
       "      <td>174</td>\n",
       "      <td>1</td>\n",
       "      <td>0</td>\n",
       "      <td>0</td>\n",
       "      <td>7000</td>\n",
       "      <td>0</td>\n",
       "    </tr>\n",
       "    <tr>\n",
       "      <th>1</th>\n",
       "      <td>2</td>\n",
       "      <td>19244</td>\n",
       "      <td>0</td>\n",
       "      <td>1</td>\n",
       "      <td>1</td>\n",
       "      <td>1</td>\n",
       "      <td>215</td>\n",
       "      <td>2</td>\n",
       "      <td>0</td>\n",
       "      <td>0</td>\n",
       "      <td>6968</td>\n",
       "      <td>0</td>\n",
       "    </tr>\n",
       "    <tr>\n",
       "      <th>2</th>\n",
       "      <td>3</td>\n",
       "      <td>41354</td>\n",
       "      <td>0</td>\n",
       "      <td>1</td>\n",
       "      <td>1</td>\n",
       "      <td>1</td>\n",
       "      <td>4123</td>\n",
       "      <td>4</td>\n",
       "      <td>0</td>\n",
       "      <td>0</td>\n",
       "      <td>7034</td>\n",
       "      <td>0</td>\n",
       "    </tr>\n",
       "    <tr>\n",
       "      <th>3</th>\n",
       "      <td>4</td>\n",
       "      <td>14776</td>\n",
       "      <td>0</td>\n",
       "      <td>1</td>\n",
       "      <td>1</td>\n",
       "      <td>1</td>\n",
       "      <td>500</td>\n",
       "      <td>1</td>\n",
       "      <td>0</td>\n",
       "      <td>0</td>\n",
       "      <td>6952</td>\n",
       "      <td>0</td>\n",
       "    </tr>\n",
       "    <tr>\n",
       "      <th>4</th>\n",
       "      <td>5</td>\n",
       "      <td>97752</td>\n",
       "      <td>0</td>\n",
       "      <td>4</td>\n",
       "      <td>1</td>\n",
       "      <td>1</td>\n",
       "      <td>43300</td>\n",
       "      <td>26</td>\n",
       "      <td>2077</td>\n",
       "      <td>4</td>\n",
       "      <td>6935</td>\n",
       "      <td>1</td>\n",
       "    </tr>\n",
       "  </tbody>\n",
       "</table>\n",
       "</div>"
      ],
      "text/plain": [
       "   ID#  Balance  Qual_miles  cc1_miles  cc2_miles  cc3_miles  Bonus_miles  \\\n",
       "0    1    28143           0          1          1          1          174   \n",
       "1    2    19244           0          1          1          1          215   \n",
       "2    3    41354           0          1          1          1         4123   \n",
       "3    4    14776           0          1          1          1          500   \n",
       "4    5    97752           0          4          1          1        43300   \n",
       "\n",
       "   Bonus_trans  Flight_miles_12mo  Flight_trans_12  Days_since_enroll  Award?  \n",
       "0            1                  0                0               7000       0  \n",
       "1            2                  0                0               6968       0  \n",
       "2            4                  0                0               7034       0  \n",
       "3            1                  0                0               6952       0  \n",
       "4           26               2077                4               6935       1  "
      ]
     },
     "execution_count": 20,
     "metadata": {},
     "output_type": "execute_result"
    }
   ],
   "source": [
    "air.head()"
   ]
  },
  {
   "cell_type": "code",
   "execution_count": 21,
   "id": "67c71fa7",
   "metadata": {
    "ExecuteTime": {
     "end_time": "2023-03-04T06:35:29.615067Z",
     "start_time": "2023-03-04T06:35:29.598849Z"
    }
   },
   "outputs": [],
   "source": [
    "al=air.drop([\"ID#\"],axis=1)"
   ]
  },
  {
   "cell_type": "code",
   "execution_count": 22,
   "id": "f819c046",
   "metadata": {
    "ExecuteTime": {
     "end_time": "2023-03-04T06:35:47.295000Z",
     "start_time": "2023-03-04T06:35:47.270594Z"
    }
   },
   "outputs": [
    {
     "name": "stdout",
     "output_type": "stream",
     "text": [
      "<class 'pandas.core.frame.DataFrame'>\n",
      "RangeIndex: 3999 entries, 0 to 3998\n",
      "Data columns (total 11 columns):\n",
      " #   Column             Non-Null Count  Dtype\n",
      "---  ------             --------------  -----\n",
      " 0   Balance            3999 non-null   int64\n",
      " 1   Qual_miles         3999 non-null   int64\n",
      " 2   cc1_miles          3999 non-null   int64\n",
      " 3   cc2_miles          3999 non-null   int64\n",
      " 4   cc3_miles          3999 non-null   int64\n",
      " 5   Bonus_miles        3999 non-null   int64\n",
      " 6   Bonus_trans        3999 non-null   int64\n",
      " 7   Flight_miles_12mo  3999 non-null   int64\n",
      " 8   Flight_trans_12    3999 non-null   int64\n",
      " 9   Days_since_enroll  3999 non-null   int64\n",
      " 10  Award?             3999 non-null   int64\n",
      "dtypes: int64(11)\n",
      "memory usage: 343.8 KB\n"
     ]
    }
   ],
   "source": [
    "al.info()"
   ]
  },
  {
   "cell_type": "code",
   "execution_count": 23,
   "id": "32c040e9",
   "metadata": {
    "ExecuteTime": {
     "end_time": "2023-03-04T06:36:03.657277Z",
     "start_time": "2023-03-04T06:36:02.955885Z"
    }
   },
   "outputs": [
    {
     "data": {
      "image/png": "[encoded data removed]",
      "text/plain": [
       "<Figure size 3000x1500 with 11 Axes>"
      ]
     },
     "metadata": {},
     "output_type": "display_data"
    }
   ],
   "source": [
    "al.plot(kind='box',subplots=True,figsize=(30,15))\n",
    "plt.tight_layout()\n",
    "plt.show()"
   ]
  },
  {
   "cell_type": "code",
   "execution_count": 24,
   "id": "bb2e455e",
   "metadata": {
    "ExecuteTime": {
     "end_time": "2023-03-04T06:36:29.494409Z",
     "start_time": "2023-03-04T06:36:29.470390Z"
    }
   },
   "outputs": [
    {
     "data": {
      "text/plain": [
       "(3999, 11)"
      ]
     },
     "execution_count": 24,
     "metadata": {},
     "output_type": "execute_result"
    }
   ],
   "source": [
    "al.shape"
   ]
  },
  {
   "cell_type": "markdown",
   "id": "96709725",
   "metadata": {},
   "source": [
    "# Hierarchical clustering"
   ]
  },
  {
   "cell_type": "code",
   "execution_count": 25,
   "id": "cdcf7f7c",
   "metadata": {
    "ExecuteTime": {
     "end_time": "2023-03-04T06:36:53.619392Z",
     "start_time": "2023-03-04T06:36:53.594990Z"
    }
   },
   "outputs": [],
   "source": [
    "# Normalization function  maxmin scale\n",
    "def norm_func(i):\n",
    "    x = (i-i.min())/(i.max()-i.min())\n",
    "    return (x)"
   ]
  },
  {
   "cell_type": "code",
   "execution_count": 26,
   "id": "519c16e1",
   "metadata": {
    "ExecuteTime": {
     "end_time": "2023-03-04T06:37:01.108509Z",
     "start_time": "2023-03-04T06:37:01.097167Z"
    }
   },
   "outputs": [],
   "source": [
    "# Normalized data frame [ the columns are in diiferent scale and hence it is normalizd]\n",
    "al_norm = norm_func(al.iloc[:,1:])"
   ]
  },
  {
   "cell_type": "code",
   "execution_count": 27,
   "id": "c1e112a9",
   "metadata": {
    "ExecuteTime": {
     "end_time": "2023-03-04T06:37:07.932479Z",
     "start_time": "2023-03-04T06:37:07.901098Z"
    }
   },
   "outputs": [
    {
     "data": {
      "text/html": [
       "<div>\n",
       "<style scoped>\n",
       "    .dataframe tbody tr th:only-of-type {\n",
       "        vertical-align: middle;\n",
       "    }\n",
       "\n",
       "    .dataframe tbody tr th {\n",
       "        vertical-align: top;\n",
       "    }\n",
       "\n",
       "    .dataframe thead th {\n",
       "        text-align: right;\n",
       "    }\n",
       "</style>\n",
       "<table border=\"1\" class=\"dataframe\">\n",
       "  <thead>\n",
       "    <tr style=\"text-align: right;\">\n",
       "      <th></th>\n",
       "      <th>Qual_miles</th>\n",
       "      <th>cc1_miles</th>\n",
       "      <th>cc2_miles</th>\n",
       "      <th>cc3_miles</th>\n",
       "      <th>Bonus_miles</th>\n",
       "      <th>Bonus_trans</th>\n",
       "      <th>Flight_miles_12mo</th>\n",
       "      <th>Flight_trans_12</th>\n",
       "      <th>Days_since_enroll</th>\n",
       "      <th>Award?</th>\n",
       "    </tr>\n",
       "  </thead>\n",
       "  <tbody>\n",
       "    <tr>\n",
       "      <th>0</th>\n",
       "      <td>0.0</td>\n",
       "      <td>0.00</td>\n",
       "      <td>0.0</td>\n",
       "      <td>0.0</td>\n",
       "      <td>0.000660</td>\n",
       "      <td>0.011628</td>\n",
       "      <td>0.000000</td>\n",
       "      <td>0.000000</td>\n",
       "      <td>0.843742</td>\n",
       "      <td>0.0</td>\n",
       "    </tr>\n",
       "    <tr>\n",
       "      <th>1</th>\n",
       "      <td>0.0</td>\n",
       "      <td>0.00</td>\n",
       "      <td>0.0</td>\n",
       "      <td>0.0</td>\n",
       "      <td>0.000815</td>\n",
       "      <td>0.023256</td>\n",
       "      <td>0.000000</td>\n",
       "      <td>0.000000</td>\n",
       "      <td>0.839884</td>\n",
       "      <td>0.0</td>\n",
       "    </tr>\n",
       "    <tr>\n",
       "      <th>2</th>\n",
       "      <td>0.0</td>\n",
       "      <td>0.00</td>\n",
       "      <td>0.0</td>\n",
       "      <td>0.0</td>\n",
       "      <td>0.015636</td>\n",
       "      <td>0.046512</td>\n",
       "      <td>0.000000</td>\n",
       "      <td>0.000000</td>\n",
       "      <td>0.847842</td>\n",
       "      <td>0.0</td>\n",
       "    </tr>\n",
       "    <tr>\n",
       "      <th>3</th>\n",
       "      <td>0.0</td>\n",
       "      <td>0.00</td>\n",
       "      <td>0.0</td>\n",
       "      <td>0.0</td>\n",
       "      <td>0.001896</td>\n",
       "      <td>0.011628</td>\n",
       "      <td>0.000000</td>\n",
       "      <td>0.000000</td>\n",
       "      <td>0.837955</td>\n",
       "      <td>0.0</td>\n",
       "    </tr>\n",
       "    <tr>\n",
       "      <th>4</th>\n",
       "      <td>0.0</td>\n",
       "      <td>0.75</td>\n",
       "      <td>0.0</td>\n",
       "      <td>0.0</td>\n",
       "      <td>0.164211</td>\n",
       "      <td>0.302326</td>\n",
       "      <td>0.067398</td>\n",
       "      <td>0.075472</td>\n",
       "      <td>0.835905</td>\n",
       "      <td>1.0</td>\n",
       "    </tr>\n",
       "    <tr>\n",
       "      <th>...</th>\n",
       "      <td>...</td>\n",
       "      <td>...</td>\n",
       "      <td>...</td>\n",
       "      <td>...</td>\n",
       "      <td>...</td>\n",
       "      <td>...</td>\n",
       "      <td>...</td>\n",
       "      <td>...</td>\n",
       "      <td>...</td>\n",
       "      <td>...</td>\n",
       "    </tr>\n",
       "    <tr>\n",
       "      <th>3994</th>\n",
       "      <td>0.0</td>\n",
       "      <td>0.00</td>\n",
       "      <td>0.0</td>\n",
       "      <td>0.0</td>\n",
       "      <td>0.032330</td>\n",
       "      <td>0.046512</td>\n",
       "      <td>0.006490</td>\n",
       "      <td>0.018868</td>\n",
       "      <td>0.168917</td>\n",
       "      <td>1.0</td>\n",
       "    </tr>\n",
       "    <tr>\n",
       "      <th>3995</th>\n",
       "      <td>0.0</td>\n",
       "      <td>0.00</td>\n",
       "      <td>0.0</td>\n",
       "      <td>0.0</td>\n",
       "      <td>0.003720</td>\n",
       "      <td>0.058140</td>\n",
       "      <td>0.000000</td>\n",
       "      <td>0.000000</td>\n",
       "      <td>0.167953</td>\n",
       "      <td>1.0</td>\n",
       "    </tr>\n",
       "    <tr>\n",
       "      <th>3996</th>\n",
       "      <td>0.0</td>\n",
       "      <td>0.50</td>\n",
       "      <td>0.0</td>\n",
       "      <td>0.0</td>\n",
       "      <td>0.096505</td>\n",
       "      <td>0.093023</td>\n",
       "      <td>0.000000</td>\n",
       "      <td>0.000000</td>\n",
       "      <td>0.168797</td>\n",
       "      <td>1.0</td>\n",
       "    </tr>\n",
       "    <tr>\n",
       "      <th>3997</th>\n",
       "      <td>0.0</td>\n",
       "      <td>0.00</td>\n",
       "      <td>0.0</td>\n",
       "      <td>0.0</td>\n",
       "      <td>0.001896</td>\n",
       "      <td>0.011628</td>\n",
       "      <td>0.016225</td>\n",
       "      <td>0.018868</td>\n",
       "      <td>0.168676</td>\n",
       "      <td>0.0</td>\n",
       "    </tr>\n",
       "    <tr>\n",
       "      <th>3998</th>\n",
       "      <td>0.0</td>\n",
       "      <td>0.00</td>\n",
       "      <td>0.0</td>\n",
       "      <td>0.0</td>\n",
       "      <td>0.000000</td>\n",
       "      <td>0.000000</td>\n",
       "      <td>0.000000</td>\n",
       "      <td>0.000000</td>\n",
       "      <td>0.168314</td>\n",
       "      <td>0.0</td>\n",
       "    </tr>\n",
       "  </tbody>\n",
       "</table>\n",
       "<p>3999 rows × 10 columns</p>\n",
       "</div>"
      ],
      "text/plain": [
       "      Qual_miles  cc1_miles  cc2_miles  cc3_miles  Bonus_miles  Bonus_trans  \\\n",
       "0            0.0       0.00        0.0        0.0     0.000660     0.011628   \n",
       "1            0.0       0.00        0.0        0.0     0.000815     0.023256   \n",
       "2            0.0       0.00        0.0        0.0     0.015636     0.046512   \n",
       "3            0.0       0.00        0.0        0.0     0.001896     0.011628   \n",
       "4            0.0       0.75        0.0        0.0     0.164211     0.302326   \n",
       "...          ...        ...        ...        ...          ...          ...   \n",
       "3994         0.0       0.00        0.0        0.0     0.032330     0.046512   \n",
       "3995         0.0       0.00        0.0        0.0     0.003720     0.058140   \n",
       "3996         0.0       0.50        0.0        0.0     0.096505     0.093023   \n",
       "3997         0.0       0.00        0.0        0.0     0.001896     0.011628   \n",
       "3998         0.0       0.00        0.0        0.0     0.000000     0.000000   \n",
       "\n",
       "      Flight_miles_12mo  Flight_trans_12  Days_since_enroll  Award?  \n",
       "0              0.000000         0.000000           0.843742     0.0  \n",
       "1              0.000000         0.000000           0.839884     0.0  \n",
       "2              0.000000         0.000000           0.847842     0.0  \n",
       "3              0.000000         0.000000           0.837955     0.0  \n",
       "4              0.067398         0.075472           0.835905     1.0  \n",
       "...                 ...              ...                ...     ...  \n",
       "3994           0.006490         0.018868           0.168917     1.0  \n",
       "3995           0.000000         0.000000           0.167953     1.0  \n",
       "3996           0.000000         0.000000           0.168797     1.0  \n",
       "3997           0.016225         0.018868           0.168676     0.0  \n",
       "3998           0.000000         0.000000           0.168314     0.0  \n",
       "\n",
       "[3999 rows x 10 columns]"
      ]
     },
     "execution_count": 27,
     "metadata": {},
     "output_type": "execute_result"
    }
   ],
   "source": [
    "al_norm"
   ]
  },
  {
   "cell_type": "code",
   "execution_count": 28,
   "id": "c9f6f008",
   "metadata": {
    "ExecuteTime": {
     "end_time": "2023-03-04T06:37:33.708045Z",
     "start_time": "2023-03-04T06:37:16.623431Z"
    }
   },
   "outputs": [
    {
     "data": {
      "image/png": "[encoded data removed]",
      "text/plain": [
       "<Figure size 2500x1000 with 1 Axes>"
      ]
     },
     "metadata": {},
     "output_type": "display_data"
    }
   ],
   "source": [
    "# create dendrogram\n",
    "plt.figure(figsize=(25, 10)) \n",
    "dendrogram=sch.dendrogram(sch.linkage(al_norm, method='complete'))\n",
    "plt.show()\n",
    "# here the method used for calculating the distance is complete,which is the farest neighbour\n"
   ]
  },
  {
   "cell_type": "code",
   "execution_count": 29,
   "id": "84ab328e",
   "metadata": {
    "ExecuteTime": {
     "end_time": "2023-03-04T06:37:33.724343Z",
     "start_time": "2023-03-04T06:37:33.716058Z"
    }
   },
   "outputs": [],
   "source": [
    "# creating of the clusters by agglomerative clustering\n",
    "# he dist can be calculated in \"euclidean\",\"manhattan\",\"cosine\" distances\n",
    "\n",
    "hcluster = AgglomerativeClustering(n_clusters=5, affinity = 'euclidean', linkage = 'complete')"
   ]
  },
  {
   "cell_type": "code",
   "execution_count": 30,
   "id": "0a1fe4a6",
   "metadata": {
    "ExecuteTime": {
     "end_time": "2023-03-04T06:37:33.756421Z",
     "start_time": "2023-03-04T06:37:33.724343Z"
    }
   },
   "outputs": [
    {
     "data": {
      "text/plain": [
       "AgglomerativeClustering(linkage='complete', n_clusters=5)"
      ]
     },
     "execution_count": 30,
     "metadata": {},
     "output_type": "execute_result"
    }
   ],
   "source": [
    "hcluster"
   ]
  },
  {
   "cell_type": "code",
   "execution_count": 31,
   "id": "1c0a01c9",
   "metadata": {
    "ExecuteTime": {
     "end_time": "2023-03-04T06:37:39.344853Z",
     "start_time": "2023-03-04T06:37:39.328807Z"
    }
   },
   "outputs": [],
   "source": [
    "h_al_norm=al_norm.copy()"
   ]
  },
  {
   "cell_type": "code",
   "execution_count": 32,
   "id": "0faadaaa",
   "metadata": {
    "ExecuteTime": {
     "end_time": "2023-03-04T06:37:48.987682Z",
     "start_time": "2023-03-04T06:37:48.721599Z"
    }
   },
   "outputs": [
    {
     "data": {
      "text/plain": [
       "array([0, 0, 0, ..., 2, 0, 0], dtype=int64)"
      ]
     },
     "execution_count": 32,
     "metadata": {},
     "output_type": "execute_result"
    }
   ],
   "source": [
    "hcluster.fit_predict(h_al_norm)"
   ]
  },
  {
   "cell_type": "code",
   "execution_count": 39,
   "id": "a472118c",
   "metadata": {
    "ExecuteTime": {
     "end_time": "2023-03-04T06:43:26.125641Z",
     "start_time": "2023-03-04T06:43:26.109812Z"
    }
   },
   "outputs": [],
   "source": [
    "#copying a dataset for the hierarcgy model\n",
    "h_al=al.copy()\n",
    "\n"
   ]
  },
  {
   "cell_type": "code",
   "execution_count": 40,
   "id": "94f5b356",
   "metadata": {
    "ExecuteTime": {
     "end_time": "2023-03-04T06:43:37.687367Z",
     "start_time": "2023-03-04T06:43:37.670887Z"
    }
   },
   "outputs": [],
   "source": [
    "# adding the cluster to the data set\n",
    "\n",
    "h_al['h_clusterid']=hcluster.labels_"
   ]
  },
  {
   "cell_type": "code",
   "execution_count": 41,
   "id": "d3be1547",
   "metadata": {
    "ExecuteTime": {
     "end_time": "2023-03-04T06:43:47.114400Z",
     "start_time": "2023-03-04T06:43:47.094238Z"
    }
   },
   "outputs": [
    {
     "data": {
      "text/html": [
       "<div>\n",
       "<style scoped>\n",
       "    .dataframe tbody tr th:only-of-type {\n",
       "        vertical-align: middle;\n",
       "    }\n",
       "\n",
       "    .dataframe tbody tr th {\n",
       "        vertical-align: top;\n",
       "    }\n",
       "\n",
       "    .dataframe thead th {\n",
       "        text-align: right;\n",
       "    }\n",
       "</style>\n",
       "<table border=\"1\" class=\"dataframe\">\n",
       "  <thead>\n",
       "    <tr style=\"text-align: right;\">\n",
       "      <th></th>\n",
       "      <th>Balance</th>\n",
       "      <th>Qual_miles</th>\n",
       "      <th>cc1_miles</th>\n",
       "      <th>cc2_miles</th>\n",
       "      <th>cc3_miles</th>\n",
       "      <th>Bonus_miles</th>\n",
       "      <th>Bonus_trans</th>\n",
       "      <th>Flight_miles_12mo</th>\n",
       "      <th>Flight_trans_12</th>\n",
       "      <th>Days_since_enroll</th>\n",
       "      <th>Award?</th>\n",
       "      <th>h_clusterid</th>\n",
       "    </tr>\n",
       "  </thead>\n",
       "  <tbody>\n",
       "    <tr>\n",
       "      <th>0</th>\n",
       "      <td>28143</td>\n",
       "      <td>0</td>\n",
       "      <td>1</td>\n",
       "      <td>1</td>\n",
       "      <td>1</td>\n",
       "      <td>174</td>\n",
       "      <td>1</td>\n",
       "      <td>0</td>\n",
       "      <td>0</td>\n",
       "      <td>7000</td>\n",
       "      <td>0</td>\n",
       "      <td>0</td>\n",
       "    </tr>\n",
       "    <tr>\n",
       "      <th>1</th>\n",
       "      <td>19244</td>\n",
       "      <td>0</td>\n",
       "      <td>1</td>\n",
       "      <td>1</td>\n",
       "      <td>1</td>\n",
       "      <td>215</td>\n",
       "      <td>2</td>\n",
       "      <td>0</td>\n",
       "      <td>0</td>\n",
       "      <td>6968</td>\n",
       "      <td>0</td>\n",
       "      <td>0</td>\n",
       "    </tr>\n",
       "    <tr>\n",
       "      <th>2</th>\n",
       "      <td>41354</td>\n",
       "      <td>0</td>\n",
       "      <td>1</td>\n",
       "      <td>1</td>\n",
       "      <td>1</td>\n",
       "      <td>4123</td>\n",
       "      <td>4</td>\n",
       "      <td>0</td>\n",
       "      <td>0</td>\n",
       "      <td>7034</td>\n",
       "      <td>0</td>\n",
       "      <td>0</td>\n",
       "    </tr>\n",
       "    <tr>\n",
       "      <th>3</th>\n",
       "      <td>14776</td>\n",
       "      <td>0</td>\n",
       "      <td>1</td>\n",
       "      <td>1</td>\n",
       "      <td>1</td>\n",
       "      <td>500</td>\n",
       "      <td>1</td>\n",
       "      <td>0</td>\n",
       "      <td>0</td>\n",
       "      <td>6952</td>\n",
       "      <td>0</td>\n",
       "      <td>0</td>\n",
       "    </tr>\n",
       "    <tr>\n",
       "      <th>4</th>\n",
       "      <td>97752</td>\n",
       "      <td>0</td>\n",
       "      <td>4</td>\n",
       "      <td>1</td>\n",
       "      <td>1</td>\n",
       "      <td>43300</td>\n",
       "      <td>26</td>\n",
       "      <td>2077</td>\n",
       "      <td>4</td>\n",
       "      <td>6935</td>\n",
       "      <td>1</td>\n",
       "      <td>2</td>\n",
       "    </tr>\n",
       "    <tr>\n",
       "      <th>...</th>\n",
       "      <td>...</td>\n",
       "      <td>...</td>\n",
       "      <td>...</td>\n",
       "      <td>...</td>\n",
       "      <td>...</td>\n",
       "      <td>...</td>\n",
       "      <td>...</td>\n",
       "      <td>...</td>\n",
       "      <td>...</td>\n",
       "      <td>...</td>\n",
       "      <td>...</td>\n",
       "      <td>...</td>\n",
       "    </tr>\n",
       "    <tr>\n",
       "      <th>3994</th>\n",
       "      <td>18476</td>\n",
       "      <td>0</td>\n",
       "      <td>1</td>\n",
       "      <td>1</td>\n",
       "      <td>1</td>\n",
       "      <td>8525</td>\n",
       "      <td>4</td>\n",
       "      <td>200</td>\n",
       "      <td>1</td>\n",
       "      <td>1403</td>\n",
       "      <td>1</td>\n",
       "      <td>2</td>\n",
       "    </tr>\n",
       "    <tr>\n",
       "      <th>3995</th>\n",
       "      <td>64385</td>\n",
       "      <td>0</td>\n",
       "      <td>1</td>\n",
       "      <td>1</td>\n",
       "      <td>1</td>\n",
       "      <td>981</td>\n",
       "      <td>5</td>\n",
       "      <td>0</td>\n",
       "      <td>0</td>\n",
       "      <td>1395</td>\n",
       "      <td>1</td>\n",
       "      <td>2</td>\n",
       "    </tr>\n",
       "    <tr>\n",
       "      <th>3996</th>\n",
       "      <td>73597</td>\n",
       "      <td>0</td>\n",
       "      <td>3</td>\n",
       "      <td>1</td>\n",
       "      <td>1</td>\n",
       "      <td>25447</td>\n",
       "      <td>8</td>\n",
       "      <td>0</td>\n",
       "      <td>0</td>\n",
       "      <td>1402</td>\n",
       "      <td>1</td>\n",
       "      <td>2</td>\n",
       "    </tr>\n",
       "    <tr>\n",
       "      <th>3997</th>\n",
       "      <td>54899</td>\n",
       "      <td>0</td>\n",
       "      <td>1</td>\n",
       "      <td>1</td>\n",
       "      <td>1</td>\n",
       "      <td>500</td>\n",
       "      <td>1</td>\n",
       "      <td>500</td>\n",
       "      <td>1</td>\n",
       "      <td>1401</td>\n",
       "      <td>0</td>\n",
       "      <td>0</td>\n",
       "    </tr>\n",
       "    <tr>\n",
       "      <th>3998</th>\n",
       "      <td>3016</td>\n",
       "      <td>0</td>\n",
       "      <td>1</td>\n",
       "      <td>1</td>\n",
       "      <td>1</td>\n",
       "      <td>0</td>\n",
       "      <td>0</td>\n",
       "      <td>0</td>\n",
       "      <td>0</td>\n",
       "      <td>1398</td>\n",
       "      <td>0</td>\n",
       "      <td>0</td>\n",
       "    </tr>\n",
       "  </tbody>\n",
       "</table>\n",
       "<p>3999 rows × 12 columns</p>\n",
       "</div>"
      ],
      "text/plain": [
       "      Balance  Qual_miles  cc1_miles  cc2_miles  cc3_miles  Bonus_miles  \\\n",
       "0       28143           0          1          1          1          174   \n",
       "1       19244           0          1          1          1          215   \n",
       "2       41354           0          1          1          1         4123   \n",
       "3       14776           0          1          1          1          500   \n",
       "4       97752           0          4          1          1        43300   \n",
       "...       ...         ...        ...        ...        ...          ...   \n",
       "3994    18476           0          1          1          1         8525   \n",
       "3995    64385           0          1          1          1          981   \n",
       "3996    73597           0          3          1          1        25447   \n",
       "3997    54899           0          1          1          1          500   \n",
       "3998     3016           0          1          1          1            0   \n",
       "\n",
       "      Bonus_trans  Flight_miles_12mo  Flight_trans_12  Days_since_enroll  \\\n",
       "0               1                  0                0               7000   \n",
       "1               2                  0                0               6968   \n",
       "2               4                  0                0               7034   \n",
       "3               1                  0                0               6952   \n",
       "4              26               2077                4               6935   \n",
       "...           ...                ...              ...                ...   \n",
       "3994            4                200                1               1403   \n",
       "3995            5                  0                0               1395   \n",
       "3996            8                  0                0               1402   \n",
       "3997            1                500                1               1401   \n",
       "3998            0                  0                0               1398   \n",
       "\n",
       "      Award?  h_clusterid  \n",
       "0          0            0  \n",
       "1          0            0  \n",
       "2          0            0  \n",
       "3          0            0  \n",
       "4          1            2  \n",
       "...      ...          ...  \n",
       "3994       1            2  \n",
       "3995       1            2  \n",
       "3996       1            2  \n",
       "3997       0            0  \n",
       "3998       0            0  \n",
       "\n",
       "[3999 rows x 12 columns]"
      ]
     },
     "execution_count": 41,
     "metadata": {},
     "output_type": "execute_result"
    }
   ],
   "source": [
    "h_al"
   ]
  },
  {
   "cell_type": "code",
   "execution_count": 43,
   "id": "4f11114e",
   "metadata": {
    "ExecuteTime": {
     "end_time": "2023-03-04T06:45:48.632553Z",
     "start_time": "2023-03-04T06:45:48.479172Z"
    }
   },
   "outputs": [
    {
     "data": {
      "image/png": "[encoded data removed]",
      "text/plain": [
       "<Figure size 500x500 with 1 Axes>"
      ]
     },
     "metadata": {},
     "output_type": "display_data"
    }
   ],
   "source": [
    "# Ploting of the Clusters\n",
    "plt.figure(figsize=(5, 5))  \n",
    "plt.scatter(h_al['h_clusterid'],h_al['Balance'], c=hcluster.labels_) \n",
    "plt.show()"
   ]
  },
  {
   "cell_type": "markdown",
   "id": "1356e84e",
   "metadata": {},
   "source": [
    "# k-means"
   ]
  },
  {
   "cell_type": "code",
   "execution_count": 44,
   "id": "3eb6f0b7",
   "metadata": {
    "ExecuteTime": {
     "end_time": "2023-03-04T06:46:19.779790Z",
     "start_time": "2023-03-04T06:46:19.763946Z"
    }
   },
   "outputs": [],
   "source": [
    "# using elbow method to find the optimum no of clusters\n",
    "#The K-means algorithm aims to choose centroids that minimise the inertia, or within-cluster sum-of-squares criterion:"
   ]
  },
  {
   "cell_type": "code",
   "execution_count": 45,
   "id": "e0ee7e41",
   "metadata": {
    "ExecuteTime": {
     "end_time": "2023-03-04T06:46:34.964282Z",
     "start_time": "2023-03-04T06:46:33.359484Z"
    }
   },
   "outputs": [
    {
     "data": {
      "image/png": "[encoded data removed]",
      "text/plain": [
       "<Figure size 640x480 with 1 Axes>"
      ]
     },
     "metadata": {},
     "output_type": "display_data"
    }
   ],
   "source": [
    "wcss = []\n",
    "for i in range(1, 11):\n",
    "    kmeans = KMeans(n_clusters=i,random_state=2)\n",
    "    kmeans.fit(al_norm)\n",
    "    wcss.append(kmeans.inertia_)\n",
    "    \n",
    "plt.plot(range(1, 11), wcss,color='red')\n",
    "plt.scatter(range(1, 11), wcss,color='black')\n",
    "plt.title('Elbow Method')\n",
    "plt.xlabel('Number of clusters')\n",
    "plt.ylabel('WCSS')\n",
    "plt.show()\n"
   ]
  },
  {
   "cell_type": "code",
   "execution_count": 46,
   "id": "4ea70e90",
   "metadata": {
    "ExecuteTime": {
     "end_time": "2023-03-04T06:47:11.277982Z",
     "start_time": "2023-03-04T06:47:11.269310Z"
    }
   },
   "outputs": [],
   "source": [
    "# from this the optimum no of cluster is K=4,5"
   ]
  },
  {
   "cell_type": "markdown",
   "id": "b2b3a2b8",
   "metadata": {},
   "source": [
    "# building the k-means clustering algorithm for k=4"
   ]
  },
  {
   "cell_type": "code",
   "execution_count": 47,
   "id": "48616bb9",
   "metadata": {
    "ExecuteTime": {
     "end_time": "2023-03-04T06:47:38.220951Z",
     "start_time": "2023-03-04T06:47:38.118474Z"
    }
   },
   "outputs": [
    {
     "data": {
      "text/plain": [
       "KMeans(n_clusters=4)"
      ]
     },
     "execution_count": 47,
     "metadata": {},
     "output_type": "execute_result"
    }
   ],
   "source": [
    "K4_cluster=KMeans(n_clusters=4)\n",
    "K4_cluster.fit(al_norm)"
   ]
  },
  {
   "cell_type": "code",
   "execution_count": 48,
   "id": "0b9a7491",
   "metadata": {
    "ExecuteTime": {
     "end_time": "2023-03-04T06:47:46.246470Z",
     "start_time": "2023-03-04T06:47:46.225461Z"
    }
   },
   "outputs": [
    {
     "data": {
      "text/plain": [
       "array([1, 1, 1, ..., 2, 1, 1])"
      ]
     },
     "execution_count": 48,
     "metadata": {},
     "output_type": "execute_result"
    }
   ],
   "source": [
    "K4_cluster.labels_"
   ]
  },
  {
   "cell_type": "code",
   "execution_count": 49,
   "id": "ab485bff",
   "metadata": {
    "ExecuteTime": {
     "end_time": "2023-03-04T06:47:54.366708Z",
     "start_time": "2023-03-04T06:47:54.356615Z"
    }
   },
   "outputs": [],
   "source": [
    "K4_al=al.copy()"
   ]
  },
  {
   "cell_type": "code",
   "execution_count": 50,
   "id": "1a76f35f",
   "metadata": {
    "ExecuteTime": {
     "end_time": "2023-03-04T06:48:12.112499Z",
     "start_time": "2023-03-04T06:48:12.103448Z"
    }
   },
   "outputs": [
    {
     "data": {
      "text/html": [
       "<div>\n",
       "<style scoped>\n",
       "    .dataframe tbody tr th:only-of-type {\n",
       "        vertical-align: middle;\n",
       "    }\n",
       "\n",
       "    .dataframe tbody tr th {\n",
       "        vertical-align: top;\n",
       "    }\n",
       "\n",
       "    .dataframe thead th {\n",
       "        text-align: right;\n",
       "    }\n",
       "</style>\n",
       "<table border=\"1\" class=\"dataframe\">\n",
       "  <thead>\n",
       "    <tr style=\"text-align: right;\">\n",
       "      <th></th>\n",
       "      <th>Balance</th>\n",
       "      <th>Qual_miles</th>\n",
       "      <th>cc1_miles</th>\n",
       "      <th>cc2_miles</th>\n",
       "      <th>cc3_miles</th>\n",
       "      <th>Bonus_miles</th>\n",
       "      <th>Bonus_trans</th>\n",
       "      <th>Flight_miles_12mo</th>\n",
       "      <th>Flight_trans_12</th>\n",
       "      <th>Days_since_enroll</th>\n",
       "      <th>Award?</th>\n",
       "      <th>K4_clusterid</th>\n",
       "    </tr>\n",
       "  </thead>\n",
       "  <tbody>\n",
       "    <tr>\n",
       "      <th>0</th>\n",
       "      <td>28143</td>\n",
       "      <td>0</td>\n",
       "      <td>1</td>\n",
       "      <td>1</td>\n",
       "      <td>1</td>\n",
       "      <td>174</td>\n",
       "      <td>1</td>\n",
       "      <td>0</td>\n",
       "      <td>0</td>\n",
       "      <td>7000</td>\n",
       "      <td>0</td>\n",
       "      <td>1</td>\n",
       "    </tr>\n",
       "    <tr>\n",
       "      <th>1</th>\n",
       "      <td>19244</td>\n",
       "      <td>0</td>\n",
       "      <td>1</td>\n",
       "      <td>1</td>\n",
       "      <td>1</td>\n",
       "      <td>215</td>\n",
       "      <td>2</td>\n",
       "      <td>0</td>\n",
       "      <td>0</td>\n",
       "      <td>6968</td>\n",
       "      <td>0</td>\n",
       "      <td>1</td>\n",
       "    </tr>\n",
       "    <tr>\n",
       "      <th>2</th>\n",
       "      <td>41354</td>\n",
       "      <td>0</td>\n",
       "      <td>1</td>\n",
       "      <td>1</td>\n",
       "      <td>1</td>\n",
       "      <td>4123</td>\n",
       "      <td>4</td>\n",
       "      <td>0</td>\n",
       "      <td>0</td>\n",
       "      <td>7034</td>\n",
       "      <td>0</td>\n",
       "      <td>1</td>\n",
       "    </tr>\n",
       "    <tr>\n",
       "      <th>3</th>\n",
       "      <td>14776</td>\n",
       "      <td>0</td>\n",
       "      <td>1</td>\n",
       "      <td>1</td>\n",
       "      <td>1</td>\n",
       "      <td>500</td>\n",
       "      <td>1</td>\n",
       "      <td>0</td>\n",
       "      <td>0</td>\n",
       "      <td>6952</td>\n",
       "      <td>0</td>\n",
       "      <td>1</td>\n",
       "    </tr>\n",
       "    <tr>\n",
       "      <th>4</th>\n",
       "      <td>97752</td>\n",
       "      <td>0</td>\n",
       "      <td>4</td>\n",
       "      <td>1</td>\n",
       "      <td>1</td>\n",
       "      <td>43300</td>\n",
       "      <td>26</td>\n",
       "      <td>2077</td>\n",
       "      <td>4</td>\n",
       "      <td>6935</td>\n",
       "      <td>1</td>\n",
       "      <td>2</td>\n",
       "    </tr>\n",
       "  </tbody>\n",
       "</table>\n",
       "</div>"
      ],
      "text/plain": [
       "   Balance  Qual_miles  cc1_miles  cc2_miles  cc3_miles  Bonus_miles  \\\n",
       "0    28143           0          1          1          1          174   \n",
       "1    19244           0          1          1          1          215   \n",
       "2    41354           0          1          1          1         4123   \n",
       "3    14776           0          1          1          1          500   \n",
       "4    97752           0          4          1          1        43300   \n",
       "\n",
       "   Bonus_trans  Flight_miles_12mo  Flight_trans_12  Days_since_enroll  Award?  \\\n",
       "0            1                  0                0               7000       0   \n",
       "1            2                  0                0               6968       0   \n",
       "2            4                  0                0               7034       0   \n",
       "3            1                  0                0               6952       0   \n",
       "4           26               2077                4               6935       1   \n",
       "\n",
       "   K4_clusterid  \n",
       "0             1  \n",
       "1             1  \n",
       "2             1  \n",
       "3             1  \n",
       "4             2  "
      ]
     },
     "execution_count": 50,
     "metadata": {},
     "output_type": "execute_result"
    }
   ],
   "source": [
    "K4_al['K4_clusterid']=K4_cluster.labels_\n",
    "[405]\n",
    "K4_al.head()"
   ]
  },
  {
   "cell_type": "code",
   "execution_count": 51,
   "id": "6c9e19d5",
   "metadata": {
    "ExecuteTime": {
     "end_time": "2023-03-04T06:48:24.094770Z",
     "start_time": "2023-03-04T06:48:24.073781Z"
    }
   },
   "outputs": [
    {
     "data": {
      "text/plain": [
       "K4_clusterid\n",
       "0    (20856, 13958, 185681, 19221, 23193, 2176, 603...\n",
       "1    (28143, 19244, 41354, 14776, 16420, 40091, 433...\n",
       "2    (97752, 443003, 104860, 96522, 28495, 51890, 9...\n",
       "3    (84914, 177926, 276571, 121260, 75971, 38077, ...\n",
       "Name: Balance, dtype: object"
      ]
     },
     "execution_count": 51,
     "metadata": {},
     "output_type": "execute_result"
    }
   ],
   "source": [
    "K4_al.groupby([\"K4_clusterid\"])[\"Balance\"].apply(lambda x : tuple(x))"
   ]
  },
  {
   "cell_type": "code",
   "execution_count": 52,
   "id": "e323803d",
   "metadata": {
    "ExecuteTime": {
     "end_time": "2023-03-04T06:48:31.296147Z",
     "start_time": "2023-03-04T06:48:31.284152Z"
    }
   },
   "outputs": [
    {
     "data": {
      "text/plain": [
       "1    1897\n",
       "2     808\n",
       "0     673\n",
       "3     621\n",
       "Name: K4_clusterid, dtype: int64"
      ]
     },
     "execution_count": 52,
     "metadata": {},
     "output_type": "execute_result"
    }
   ],
   "source": [
    "K4_al['K4_clusterid'].value_counts()"
   ]
  },
  {
   "cell_type": "code",
   "execution_count": 53,
   "id": "b36fa407",
   "metadata": {
    "ExecuteTime": {
     "end_time": "2023-03-04T06:48:39.214667Z",
     "start_time": "2023-03-04T06:48:39.200354Z"
    }
   },
   "outputs": [
    {
     "data": {
      "text/plain": [
       "array([[ 2.60542873e-02,  3.90044577e-02,  1.63447251e-02,\n",
       "         2.22882615e-03,  3.35642727e-02,  1.21825219e-01,\n",
       "         3.34267751e-02,  5.94073285e-02,  5.22892182e-01,\n",
       "         1.00000000e+00],\n",
       "       [ 8.28362120e-03,  2.31945177e-02,  8.96151819e-03,\n",
       "         1.05429626e-03,  1.26482465e-02,  7.54496083e-02,\n",
       "         7.35308092e-03,  1.24327389e-02,  4.36111859e-01,\n",
       "        -4.44089210e-16],\n",
       "       [ 1.77912301e-02,  7.28960396e-01,  6.18811881e-04,\n",
       "         6.49752475e-03,  1.72970238e-01,  2.34903868e-01,\n",
       "         2.31602349e-02,  4.04212591e-02,  5.86139300e-01,\n",
       "         1.00000000e+00],\n",
       "       [ 6.55837114e-03,  6.44122383e-01,  8.05152979e-04,\n",
       "         5.63607085e-03,  1.18636504e-01,  2.00595439e-01,\n",
       "         7.31260853e-03,  1.19405706e-02,  5.34640411e-01,\n",
       "        -2.22044605e-16]])"
      ]
     },
     "execution_count": 53,
     "metadata": {},
     "output_type": "execute_result"
    }
   ],
   "source": [
    "# Computing the centroids for K=4 clusters \n",
    "K4_cluster.cluster_centers_"
   ]
  },
  {
   "cell_type": "code",
   "execution_count": 54,
   "id": "6373a7aa",
   "metadata": {
    "ExecuteTime": {
     "end_time": "2023-03-04T06:48:50.379402Z",
     "start_time": "2023-03-04T06:48:50.355405Z"
    }
   },
   "outputs": [
    {
     "data": {
      "text/html": [
       "<div>\n",
       "<style scoped>\n",
       "    .dataframe tbody tr th:only-of-type {\n",
       "        vertical-align: middle;\n",
       "    }\n",
       "\n",
       "    .dataframe tbody tr th {\n",
       "        vertical-align: top;\n",
       "    }\n",
       "\n",
       "    .dataframe thead tr th {\n",
       "        text-align: left;\n",
       "    }\n",
       "</style>\n",
       "<table border=\"1\" class=\"dataframe\">\n",
       "  <thead>\n",
       "    <tr>\n",
       "      <th></th>\n",
       "      <th>K4_clusterid</th>\n",
       "      <th>Balance</th>\n",
       "      <th>Qual_miles</th>\n",
       "      <th>cc1_miles</th>\n",
       "      <th>cc2_miles</th>\n",
       "      <th>cc3_miles</th>\n",
       "      <th>Bonus_miles</th>\n",
       "      <th>Bonus_trans</th>\n",
       "      <th>Flight_miles_12mo</th>\n",
       "      <th>Flight_trans_12</th>\n",
       "      <th>Days_since_enroll</th>\n",
       "      <th>Award?</th>\n",
       "    </tr>\n",
       "    <tr>\n",
       "      <th></th>\n",
       "      <th></th>\n",
       "      <th>mean</th>\n",
       "      <th>mean</th>\n",
       "      <th>mean</th>\n",
       "      <th>mean</th>\n",
       "      <th>mean</th>\n",
       "      <th>mean</th>\n",
       "      <th>mean</th>\n",
       "      <th>mean</th>\n",
       "      <th>mean</th>\n",
       "      <th>mean</th>\n",
       "      <th>mean</th>\n",
       "    </tr>\n",
       "  </thead>\n",
       "  <tbody>\n",
       "    <tr>\n",
       "      <th>0</th>\n",
       "      <td>0</td>\n",
       "      <td>83529.153046</td>\n",
       "      <td>290.453195</td>\n",
       "      <td>1.156018</td>\n",
       "      <td>1.032689</td>\n",
       "      <td>1.008915</td>\n",
       "      <td>8850.395245</td>\n",
       "      <td>10.476969</td>\n",
       "      <td>1030.112927</td>\n",
       "      <td>3.148588</td>\n",
       "      <td>4338.867756</td>\n",
       "      <td>1.0</td>\n",
       "    </tr>\n",
       "    <tr>\n",
       "      <th>1</th>\n",
       "      <td>1</td>\n",
       "      <td>40747.617290</td>\n",
       "      <td>92.345809</td>\n",
       "      <td>1.092778</td>\n",
       "      <td>1.017923</td>\n",
       "      <td>1.004217</td>\n",
       "      <td>3335.152873</td>\n",
       "      <td>6.488666</td>\n",
       "      <td>226.599895</td>\n",
       "      <td>0.658935</td>\n",
       "      <td>3619.111755</td>\n",
       "      <td>0.0</td>\n",
       "    </tr>\n",
       "    <tr>\n",
       "      <th>2</th>\n",
       "      <td>2</td>\n",
       "      <td>108317.387376</td>\n",
       "      <td>198.336634</td>\n",
       "      <td>3.915842</td>\n",
       "      <td>1.001238</td>\n",
       "      <td>1.025990</td>\n",
       "      <td>45609.657178</td>\n",
       "      <td>20.201733</td>\n",
       "      <td>713.728960</td>\n",
       "      <td>2.142327</td>\n",
       "      <td>4863.439356</td>\n",
       "      <td>1.0</td>\n",
       "    </tr>\n",
       "    <tr>\n",
       "      <th>3</th>\n",
       "      <td>3</td>\n",
       "      <td>118032.061192</td>\n",
       "      <td>73.112721</td>\n",
       "      <td>3.576490</td>\n",
       "      <td>1.001610</td>\n",
       "      <td>1.022544</td>\n",
       "      <td>31282.666667</td>\n",
       "      <td>17.251208</td>\n",
       "      <td>225.352657</td>\n",
       "      <td>0.632850</td>\n",
       "      <td>4436.307568</td>\n",
       "      <td>0.0</td>\n",
       "    </tr>\n",
       "  </tbody>\n",
       "</table>\n",
       "</div>"
      ],
      "text/plain": [
       "  K4_clusterid        Balance  Qual_miles cc1_miles cc2_miles cc3_miles  \\\n",
       "                         mean        mean      mean      mean      mean   \n",
       "0            0   83529.153046  290.453195  1.156018  1.032689  1.008915   \n",
       "1            1   40747.617290   92.345809  1.092778  1.017923  1.004217   \n",
       "2            2  108317.387376  198.336634  3.915842  1.001238  1.025990   \n",
       "3            3  118032.061192   73.112721  3.576490  1.001610  1.022544   \n",
       "\n",
       "    Bonus_miles Bonus_trans Flight_miles_12mo Flight_trans_12  \\\n",
       "           mean        mean              mean            mean   \n",
       "0   8850.395245   10.476969       1030.112927        3.148588   \n",
       "1   3335.152873    6.488666        226.599895        0.658935   \n",
       "2  45609.657178   20.201733        713.728960        2.142327   \n",
       "3  31282.666667   17.251208        225.352657        0.632850   \n",
       "\n",
       "  Days_since_enroll Award?  \n",
       "               mean   mean  \n",
       "0       4338.867756    1.0  \n",
       "1       3619.111755    0.0  \n",
       "2       4863.439356    1.0  \n",
       "3       4436.307568    0.0  "
      ]
     },
     "execution_count": 54,
     "metadata": {},
     "output_type": "execute_result"
    }
   ],
   "source": [
    "# Group data by Clusters (K=4)\n",
    "K4_al.groupby('K4_clusterid').agg(['mean']).reset_index()"
   ]
  },
  {
   "cell_type": "code",
   "execution_count": 55,
   "id": "09d5afe3",
   "metadata": {
    "ExecuteTime": {
     "end_time": "2023-03-04T06:48:58.180110Z",
     "start_time": "2023-03-04T06:48:58.058535Z"
    }
   },
   "outputs": [
    {
     "data": {
      "image/png": "[encoded data removed]",
      "text/plain": [
       "<Figure size 400x400 with 1 Axes>"
      ]
     },
     "metadata": {},
     "output_type": "display_data"
    }
   ],
   "source": [
    "\n",
    "# Plot Clusters\n",
    "plt.figure(figsize=(4, 4))  \n",
    "plt.scatter(K4_al['K4_clusterid'],K4_al['Balance'], c=K4_cluster.labels_) \n",
    "plt.show()"
   ]
  },
  {
   "cell_type": "markdown",
   "id": "ee22cf9a",
   "metadata": {},
   "source": [
    "# building the k-means clustering algorithm for k=5"
   ]
  },
  {
   "cell_type": "code",
   "execution_count": 56,
   "id": "e7382f06",
   "metadata": {
    "ExecuteTime": {
     "end_time": "2023-03-04T06:49:30.934987Z",
     "start_time": "2023-03-04T06:49:30.824090Z"
    }
   },
   "outputs": [
    {
     "data": {
      "text/plain": [
       "KMeans(n_clusters=5)"
      ]
     },
     "execution_count": 56,
     "metadata": {},
     "output_type": "execute_result"
    }
   ],
   "source": [
    "K5_cluster=KMeans(n_clusters=5)\n",
    "K5_cluster.fit(al_norm)\n"
   ]
  },
  {
   "cell_type": "code",
   "execution_count": 57,
   "id": "964fe747",
   "metadata": {
    "ExecuteTime": {
     "end_time": "2023-03-04T06:49:38.723221Z",
     "start_time": "2023-03-04T06:49:38.715233Z"
    }
   },
   "outputs": [
    {
     "data": {
      "text/plain": [
       "array([4, 4, 4, ..., 1, 0, 0])"
      ]
     },
     "execution_count": 57,
     "metadata": {},
     "output_type": "execute_result"
    }
   ],
   "source": [
    "K5_cluster.labels_"
   ]
  },
  {
   "cell_type": "code",
   "execution_count": 58,
   "id": "124e35e0",
   "metadata": {
    "ExecuteTime": {
     "end_time": "2023-03-04T06:49:46.252377Z",
     "start_time": "2023-03-04T06:49:46.243378Z"
    }
   },
   "outputs": [],
   "source": [
    "K5_al=al.copy()"
   ]
  },
  {
   "cell_type": "code",
   "execution_count": 59,
   "id": "328771af",
   "metadata": {
    "ExecuteTime": {
     "end_time": "2023-03-04T06:49:52.463334Z",
     "start_time": "2023-03-04T06:49:52.447600Z"
    }
   },
   "outputs": [],
   "source": [
    "K5_al['K5_clusterid']=K5_cluster.labels_"
   ]
  },
  {
   "cell_type": "code",
   "execution_count": 60,
   "id": "98e785f2",
   "metadata": {
    "ExecuteTime": {
     "end_time": "2023-03-04T06:50:01.133213Z",
     "start_time": "2023-03-04T06:50:01.116213Z"
    }
   },
   "outputs": [
    {
     "data": {
      "text/html": [
       "<div>\n",
       "<style scoped>\n",
       "    .dataframe tbody tr th:only-of-type {\n",
       "        vertical-align: middle;\n",
       "    }\n",
       "\n",
       "    .dataframe tbody tr th {\n",
       "        vertical-align: top;\n",
       "    }\n",
       "\n",
       "    .dataframe thead th {\n",
       "        text-align: right;\n",
       "    }\n",
       "</style>\n",
       "<table border=\"1\" class=\"dataframe\">\n",
       "  <thead>\n",
       "    <tr style=\"text-align: right;\">\n",
       "      <th></th>\n",
       "      <th>Balance</th>\n",
       "      <th>Qual_miles</th>\n",
       "      <th>cc1_miles</th>\n",
       "      <th>cc2_miles</th>\n",
       "      <th>cc3_miles</th>\n",
       "      <th>Bonus_miles</th>\n",
       "      <th>Bonus_trans</th>\n",
       "      <th>Flight_miles_12mo</th>\n",
       "      <th>Flight_trans_12</th>\n",
       "      <th>Days_since_enroll</th>\n",
       "      <th>Award?</th>\n",
       "      <th>K5_clusterid</th>\n",
       "    </tr>\n",
       "  </thead>\n",
       "  <tbody>\n",
       "    <tr>\n",
       "      <th>0</th>\n",
       "      <td>28143</td>\n",
       "      <td>0</td>\n",
       "      <td>1</td>\n",
       "      <td>1</td>\n",
       "      <td>1</td>\n",
       "      <td>174</td>\n",
       "      <td>1</td>\n",
       "      <td>0</td>\n",
       "      <td>0</td>\n",
       "      <td>7000</td>\n",
       "      <td>0</td>\n",
       "      <td>4</td>\n",
       "    </tr>\n",
       "    <tr>\n",
       "      <th>1</th>\n",
       "      <td>19244</td>\n",
       "      <td>0</td>\n",
       "      <td>1</td>\n",
       "      <td>1</td>\n",
       "      <td>1</td>\n",
       "      <td>215</td>\n",
       "      <td>2</td>\n",
       "      <td>0</td>\n",
       "      <td>0</td>\n",
       "      <td>6968</td>\n",
       "      <td>0</td>\n",
       "      <td>4</td>\n",
       "    </tr>\n",
       "    <tr>\n",
       "      <th>2</th>\n",
       "      <td>41354</td>\n",
       "      <td>0</td>\n",
       "      <td>1</td>\n",
       "      <td>1</td>\n",
       "      <td>1</td>\n",
       "      <td>4123</td>\n",
       "      <td>4</td>\n",
       "      <td>0</td>\n",
       "      <td>0</td>\n",
       "      <td>7034</td>\n",
       "      <td>0</td>\n",
       "      <td>4</td>\n",
       "    </tr>\n",
       "    <tr>\n",
       "      <th>3</th>\n",
       "      <td>14776</td>\n",
       "      <td>0</td>\n",
       "      <td>1</td>\n",
       "      <td>1</td>\n",
       "      <td>1</td>\n",
       "      <td>500</td>\n",
       "      <td>1</td>\n",
       "      <td>0</td>\n",
       "      <td>0</td>\n",
       "      <td>6952</td>\n",
       "      <td>0</td>\n",
       "      <td>4</td>\n",
       "    </tr>\n",
       "    <tr>\n",
       "      <th>4</th>\n",
       "      <td>97752</td>\n",
       "      <td>0</td>\n",
       "      <td>4</td>\n",
       "      <td>1</td>\n",
       "      <td>1</td>\n",
       "      <td>43300</td>\n",
       "      <td>26</td>\n",
       "      <td>2077</td>\n",
       "      <td>4</td>\n",
       "      <td>6935</td>\n",
       "      <td>1</td>\n",
       "      <td>1</td>\n",
       "    </tr>\n",
       "  </tbody>\n",
       "</table>\n",
       "</div>"
      ],
      "text/plain": [
       "   Balance  Qual_miles  cc1_miles  cc2_miles  cc3_miles  Bonus_miles  \\\n",
       "0    28143           0          1          1          1          174   \n",
       "1    19244           0          1          1          1          215   \n",
       "2    41354           0          1          1          1         4123   \n",
       "3    14776           0          1          1          1          500   \n",
       "4    97752           0          4          1          1        43300   \n",
       "\n",
       "   Bonus_trans  Flight_miles_12mo  Flight_trans_12  Days_since_enroll  Award?  \\\n",
       "0            1                  0                0               7000       0   \n",
       "1            2                  0                0               6968       0   \n",
       "2            4                  0                0               7034       0   \n",
       "3            1                  0                0               6952       0   \n",
       "4           26               2077                4               6935       1   \n",
       "\n",
       "   K5_clusterid  \n",
       "0             4  \n",
       "1             4  \n",
       "2             4  \n",
       "3             4  \n",
       "4             1  "
      ]
     },
     "execution_count": 60,
     "metadata": {},
     "output_type": "execute_result"
    }
   ],
   "source": [
    "K5_al.head()"
   ]
  },
  {
   "cell_type": "code",
   "execution_count": 61,
   "id": "0e2e5c65",
   "metadata": {
    "ExecuteTime": {
     "end_time": "2023-03-04T06:50:09.838713Z",
     "start_time": "2023-03-04T06:50:09.815817Z"
    }
   },
   "outputs": [
    {
     "data": {
      "text/plain": [
       "K5_clusterid\n",
       "0    (1625, 44665, 65021, 6341, 3641, 39207, 52046,...\n",
       "1    (97752, 443003, 104860, 96522, 28495, 51890, 9...\n",
       "2    (84914, 177926, 276571, 121260, 75971, 38077, ...\n",
       "3    (20856, 13958, 185681, 19221, 23193, 2176, 603...\n",
       "4    (28143, 19244, 41354, 14776, 16420, 40091, 433...\n",
       "Name: Balance, dtype: object"
      ]
     },
     "execution_count": 61,
     "metadata": {},
     "output_type": "execute_result"
    }
   ],
   "source": [
    "K5_al.groupby([\"K5_clusterid\"])[\"Balance\"].apply(lambda x : tuple(x))"
   ]
  },
  {
   "cell_type": "code",
   "execution_count": 62,
   "id": "26c284c7",
   "metadata": {
    "ExecuteTime": {
     "end_time": "2023-03-04T06:50:16.790844Z",
     "start_time": "2023-03-04T06:50:16.778251Z"
    }
   },
   "outputs": [
    {
     "data": {
      "text/plain": [
       "0    1032\n",
       "4     868\n",
       "1     808\n",
       "3     673\n",
       "2     618\n",
       "Name: K5_clusterid, dtype: int64"
      ]
     },
     "execution_count": 62,
     "metadata": {},
     "output_type": "execute_result"
    }
   ],
   "source": [
    "K5_al['K5_clusterid'].value_counts()"
   ]
  },
  {
   "cell_type": "code",
   "execution_count": 63,
   "id": "23bea095",
   "metadata": {
    "ExecuteTime": {
     "end_time": "2023-03-04T06:50:24.929385Z",
     "start_time": "2023-03-04T06:50:24.919866Z"
    }
   },
   "outputs": [
    {
     "data": {
      "text/plain": [
       "array([[ 8.42749461e-03,  1.78916828e-02,  8.22050290e-03,\n",
       "         1.69245648e-03,  1.23221802e-02,  7.19940623e-02,\n",
       "         6.89356756e-03,  1.13681982e-02,  2.40390970e-01,\n",
       "        -4.44089210e-16],\n",
       "       [ 1.77912301e-02,  7.28960396e-01,  6.18811881e-04,\n",
       "         6.49752475e-03,  1.72970238e-01,  2.34903868e-01,\n",
       "         2.31602349e-02,  4.04212591e-02,  5.86139300e-01,\n",
       "         1.00000000e+00],\n",
       "       [ 6.59020789e-03,  6.46035599e-01,  8.09061489e-04,\n",
       "         5.66343042e-03,  1.19022293e-01,  2.00383834e-01,\n",
       "         7.27197078e-03,  1.18458814e-02,  5.32620376e-01,\n",
       "        -2.77555756e-16],\n",
       "       [ 2.60542873e-02,  3.90044577e-02,  1.63447251e-02,\n",
       "         2.22882615e-03,  3.35642727e-02,  1.21825219e-01,\n",
       "         3.34267751e-02,  5.94073285e-02,  5.22892182e-01,\n",
       "         1.00000000e+00],\n",
       "       [ 8.08314088e-03,  3.03117783e-02,  9.81524249e-03,\n",
       "         2.88683603e-04,  1.31294246e-02,  8.01600516e-02,\n",
       "         7.93059768e-03,  1.37696632e-02,  6.71584567e-01,\n",
       "        -4.44089210e-16]])"
      ]
     },
     "execution_count": 63,
     "metadata": {},
     "output_type": "execute_result"
    }
   ],
   "source": [
    "# Computing the centroids for K=4 clusters \n",
    "K5_cluster.cluster_centers_"
   ]
  },
  {
   "cell_type": "code",
   "execution_count": 64,
   "id": "6e5bf70c",
   "metadata": {
    "ExecuteTime": {
     "end_time": "2023-03-04T06:50:33.802719Z",
     "start_time": "2023-03-04T06:50:33.782193Z"
    }
   },
   "outputs": [
    {
     "data": {
      "text/html": [
       "<div>\n",
       "<style scoped>\n",
       "    .dataframe tbody tr th:only-of-type {\n",
       "        vertical-align: middle;\n",
       "    }\n",
       "\n",
       "    .dataframe tbody tr th {\n",
       "        vertical-align: top;\n",
       "    }\n",
       "\n",
       "    .dataframe thead tr th {\n",
       "        text-align: left;\n",
       "    }\n",
       "</style>\n",
       "<table border=\"1\" class=\"dataframe\">\n",
       "  <thead>\n",
       "    <tr>\n",
       "      <th></th>\n",
       "      <th>K5_clusterid</th>\n",
       "      <th>Balance</th>\n",
       "      <th>Qual_miles</th>\n",
       "      <th>cc1_miles</th>\n",
       "      <th>cc2_miles</th>\n",
       "      <th>cc3_miles</th>\n",
       "      <th>Bonus_miles</th>\n",
       "      <th>Bonus_trans</th>\n",
       "      <th>Flight_miles_12mo</th>\n",
       "      <th>Flight_trans_12</th>\n",
       "      <th>Days_since_enroll</th>\n",
       "      <th>Award?</th>\n",
       "    </tr>\n",
       "    <tr>\n",
       "      <th></th>\n",
       "      <th></th>\n",
       "      <th>mean</th>\n",
       "      <th>mean</th>\n",
       "      <th>mean</th>\n",
       "      <th>mean</th>\n",
       "      <th>mean</th>\n",
       "      <th>mean</th>\n",
       "      <th>mean</th>\n",
       "      <th>mean</th>\n",
       "      <th>mean</th>\n",
       "      <th>mean</th>\n",
       "      <th>mean</th>\n",
       "    </tr>\n",
       "  </thead>\n",
       "  <tbody>\n",
       "    <tr>\n",
       "      <th>0</th>\n",
       "      <td>0</td>\n",
       "      <td>33097.301357</td>\n",
       "      <td>94.131783</td>\n",
       "      <td>1.070736</td>\n",
       "      <td>1.016473</td>\n",
       "      <td>1.006783</td>\n",
       "      <td>3244.520349</td>\n",
       "      <td>6.173450</td>\n",
       "      <td>212.850775</td>\n",
       "      <td>0.603682</td>\n",
       "      <td>1992.402132</td>\n",
       "      <td>0.0</td>\n",
       "    </tr>\n",
       "    <tr>\n",
       "      <th>1</th>\n",
       "      <td>1</td>\n",
       "      <td>108317.387376</td>\n",
       "      <td>198.336634</td>\n",
       "      <td>3.915842</td>\n",
       "      <td>1.001238</td>\n",
       "      <td>1.025990</td>\n",
       "      <td>45609.657178</td>\n",
       "      <td>20.201733</td>\n",
       "      <td>713.728960</td>\n",
       "      <td>2.142327</td>\n",
       "      <td>4863.439356</td>\n",
       "      <td>1.0</td>\n",
       "    </tr>\n",
       "    <tr>\n",
       "      <th>2</th>\n",
       "      <td>2</td>\n",
       "      <td>118297.325243</td>\n",
       "      <td>73.467638</td>\n",
       "      <td>3.584142</td>\n",
       "      <td>1.001618</td>\n",
       "      <td>1.022654</td>\n",
       "      <td>31384.393204</td>\n",
       "      <td>17.233010</td>\n",
       "      <td>224.100324</td>\n",
       "      <td>0.627832</td>\n",
       "      <td>4419.553398</td>\n",
       "      <td>0.0</td>\n",
       "    </tr>\n",
       "    <tr>\n",
       "      <th>3</th>\n",
       "      <td>3</td>\n",
       "      <td>83529.153046</td>\n",
       "      <td>290.453195</td>\n",
       "      <td>1.156018</td>\n",
       "      <td>1.032689</td>\n",
       "      <td>1.008915</td>\n",
       "      <td>8850.395245</td>\n",
       "      <td>10.476969</td>\n",
       "      <td>1030.112927</td>\n",
       "      <td>3.148588</td>\n",
       "      <td>4338.867756</td>\n",
       "      <td>1.0</td>\n",
       "    </tr>\n",
       "    <tr>\n",
       "      <th>4</th>\n",
       "      <td>4</td>\n",
       "      <td>49921.633641</td>\n",
       "      <td>89.903226</td>\n",
       "      <td>1.122120</td>\n",
       "      <td>1.019585</td>\n",
       "      <td>1.001152</td>\n",
       "      <td>3467.074885</td>\n",
       "      <td>6.913594</td>\n",
       "      <td>243.834101</td>\n",
       "      <td>0.728111</td>\n",
       "      <td>5567.925115</td>\n",
       "      <td>0.0</td>\n",
       "    </tr>\n",
       "  </tbody>\n",
       "</table>\n",
       "</div>"
      ],
      "text/plain": [
       "  K5_clusterid        Balance  Qual_miles cc1_miles cc2_miles cc3_miles  \\\n",
       "                         mean        mean      mean      mean      mean   \n",
       "0            0   33097.301357   94.131783  1.070736  1.016473  1.006783   \n",
       "1            1  108317.387376  198.336634  3.915842  1.001238  1.025990   \n",
       "2            2  118297.325243   73.467638  3.584142  1.001618  1.022654   \n",
       "3            3   83529.153046  290.453195  1.156018  1.032689  1.008915   \n",
       "4            4   49921.633641   89.903226  1.122120  1.019585  1.001152   \n",
       "\n",
       "    Bonus_miles Bonus_trans Flight_miles_12mo Flight_trans_12  \\\n",
       "           mean        mean              mean            mean   \n",
       "0   3244.520349    6.173450        212.850775        0.603682   \n",
       "1  45609.657178   20.201733        713.728960        2.142327   \n",
       "2  31384.393204   17.233010        224.100324        0.627832   \n",
       "3   8850.395245   10.476969       1030.112927        3.148588   \n",
       "4   3467.074885    6.913594        243.834101        0.728111   \n",
       "\n",
       "  Days_since_enroll Award?  \n",
       "               mean   mean  \n",
       "0       1992.402132    0.0  \n",
       "1       4863.439356    1.0  \n",
       "2       4419.553398    0.0  \n",
       "3       4338.867756    1.0  \n",
       "4       5567.925115    0.0  "
      ]
     },
     "execution_count": 64,
     "metadata": {},
     "output_type": "execute_result"
    }
   ],
   "source": [
    "# Group data by Clusters (K=5)\n",
    "K5_al.groupby('K5_clusterid').agg(['mean']).reset_index()"
   ]
  },
  {
   "cell_type": "code",
   "execution_count": 65,
   "id": "8b8425c6",
   "metadata": {
    "ExecuteTime": {
     "end_time": "2023-03-04T06:50:42.281884Z",
     "start_time": "2023-03-04T06:50:42.152694Z"
    }
   },
   "outputs": [
    {
     "data": {
      "image/png": "[encoded data removed]",
      "text/plain": [
       "<Figure size 400x400 with 1 Axes>"
      ]
     },
     "metadata": {},
     "output_type": "display_data"
    }
   ],
   "source": [
    "\n",
    "# Plot Clusters\n",
    "plt.figure(figsize=(4, 4))  \n",
    "plt.scatter(K5_al['K5_clusterid'],K5_al['Balance'], c=K5_cluster.labels_) \n",
    "plt.show()\n"
   ]
  },
  {
   "cell_type": "markdown",
   "id": "cc6e42a0",
   "metadata": {},
   "source": [
    "# DBSCAN"
   ]
  },
  {
   "cell_type": "code",
   "execution_count": 66,
   "id": "0b92f558",
   "metadata": {
    "ExecuteTime": {
     "end_time": "2023-03-04T06:51:06.616906Z",
     "start_time": "2023-03-04T06:51:06.600906Z"
    }
   },
   "outputs": [],
   "source": [
    "db_al=al.copy()"
   ]
  },
  {
   "cell_type": "code",
   "execution_count": 67,
   "id": "09a18d92",
   "metadata": {
    "ExecuteTime": {
     "end_time": "2023-03-04T06:51:15.171548Z",
     "start_time": "2023-03-04T06:51:15.164534Z"
    }
   },
   "outputs": [],
   "source": [
    "db_al_norm=al_norm.copy()"
   ]
  },
  {
   "cell_type": "code",
   "execution_count": 68,
   "id": "124c7d20",
   "metadata": {
    "ExecuteTime": {
     "end_time": "2023-03-04T06:51:22.317110Z",
     "start_time": "2023-03-04T06:51:22.045467Z"
    }
   },
   "outputs": [
    {
     "data": {
      "text/plain": [
       "DBSCAN(eps=0.6, min_samples=6)"
      ]
     },
     "execution_count": 68,
     "metadata": {},
     "output_type": "execute_result"
    }
   ],
   "source": [
    "# DBSCAN Clustering\n",
    "dbscan=DBSCAN(eps=0.6,min_samples=6)\n",
    "dbscan.fit(db_al_norm)"
   ]
  },
  {
   "cell_type": "code",
   "execution_count": 69,
   "id": "392bba23",
   "metadata": {
    "ExecuteTime": {
     "end_time": "2023-03-04T06:51:29.149311Z",
     "start_time": "2023-03-04T06:51:29.139193Z"
    }
   },
   "outputs": [
    {
     "data": {
      "text/plain": [
       "array([0, 0, 0, ..., 1, 0, 0], dtype=int64)"
      ]
     },
     "execution_count": 69,
     "metadata": {},
     "output_type": "execute_result"
    }
   ],
   "source": [
    "#Noisy samples are given the label -1.\n",
    "dbscan.labels_"
   ]
  },
  {
   "cell_type": "code",
   "execution_count": 70,
   "id": "d5242afb",
   "metadata": {
    "ExecuteTime": {
     "end_time": "2023-03-04T06:51:52.573673Z",
     "start_time": "2023-03-04T06:51:52.549373Z"
    }
   },
   "outputs": [
    {
     "data": {
      "text/html": [
       "<div>\n",
       "<style scoped>\n",
       "    .dataframe tbody tr th:only-of-type {\n",
       "        vertical-align: middle;\n",
       "    }\n",
       "\n",
       "    .dataframe tbody tr th {\n",
       "        vertical-align: top;\n",
       "    }\n",
       "\n",
       "    .dataframe thead th {\n",
       "        text-align: right;\n",
       "    }\n",
       "</style>\n",
       "<table border=\"1\" class=\"dataframe\">\n",
       "  <thead>\n",
       "    <tr style=\"text-align: right;\">\n",
       "      <th></th>\n",
       "      <th>Balance</th>\n",
       "      <th>Qual_miles</th>\n",
       "      <th>cc1_miles</th>\n",
       "      <th>cc2_miles</th>\n",
       "      <th>cc3_miles</th>\n",
       "      <th>Bonus_miles</th>\n",
       "      <th>Bonus_trans</th>\n",
       "      <th>Flight_miles_12mo</th>\n",
       "      <th>Flight_trans_12</th>\n",
       "      <th>Days_since_enroll</th>\n",
       "      <th>Award?</th>\n",
       "      <th>db_clusterid</th>\n",
       "    </tr>\n",
       "  </thead>\n",
       "  <tbody>\n",
       "    <tr>\n",
       "      <th>0</th>\n",
       "      <td>28143</td>\n",
       "      <td>0</td>\n",
       "      <td>1</td>\n",
       "      <td>1</td>\n",
       "      <td>1</td>\n",
       "      <td>174</td>\n",
       "      <td>1</td>\n",
       "      <td>0</td>\n",
       "      <td>0</td>\n",
       "      <td>7000</td>\n",
       "      <td>0</td>\n",
       "      <td>0</td>\n",
       "    </tr>\n",
       "    <tr>\n",
       "      <th>1</th>\n",
       "      <td>19244</td>\n",
       "      <td>0</td>\n",
       "      <td>1</td>\n",
       "      <td>1</td>\n",
       "      <td>1</td>\n",
       "      <td>215</td>\n",
       "      <td>2</td>\n",
       "      <td>0</td>\n",
       "      <td>0</td>\n",
       "      <td>6968</td>\n",
       "      <td>0</td>\n",
       "      <td>0</td>\n",
       "    </tr>\n",
       "    <tr>\n",
       "      <th>2</th>\n",
       "      <td>41354</td>\n",
       "      <td>0</td>\n",
       "      <td>1</td>\n",
       "      <td>1</td>\n",
       "      <td>1</td>\n",
       "      <td>4123</td>\n",
       "      <td>4</td>\n",
       "      <td>0</td>\n",
       "      <td>0</td>\n",
       "      <td>7034</td>\n",
       "      <td>0</td>\n",
       "      <td>0</td>\n",
       "    </tr>\n",
       "    <tr>\n",
       "      <th>3</th>\n",
       "      <td>14776</td>\n",
       "      <td>0</td>\n",
       "      <td>1</td>\n",
       "      <td>1</td>\n",
       "      <td>1</td>\n",
       "      <td>500</td>\n",
       "      <td>1</td>\n",
       "      <td>0</td>\n",
       "      <td>0</td>\n",
       "      <td>6952</td>\n",
       "      <td>0</td>\n",
       "      <td>0</td>\n",
       "    </tr>\n",
       "    <tr>\n",
       "      <th>4</th>\n",
       "      <td>97752</td>\n",
       "      <td>0</td>\n",
       "      <td>4</td>\n",
       "      <td>1</td>\n",
       "      <td>1</td>\n",
       "      <td>43300</td>\n",
       "      <td>26</td>\n",
       "      <td>2077</td>\n",
       "      <td>4</td>\n",
       "      <td>6935</td>\n",
       "      <td>1</td>\n",
       "      <td>1</td>\n",
       "    </tr>\n",
       "    <tr>\n",
       "      <th>...</th>\n",
       "      <td>...</td>\n",
       "      <td>...</td>\n",
       "      <td>...</td>\n",
       "      <td>...</td>\n",
       "      <td>...</td>\n",
       "      <td>...</td>\n",
       "      <td>...</td>\n",
       "      <td>...</td>\n",
       "      <td>...</td>\n",
       "      <td>...</td>\n",
       "      <td>...</td>\n",
       "      <td>...</td>\n",
       "    </tr>\n",
       "    <tr>\n",
       "      <th>3994</th>\n",
       "      <td>18476</td>\n",
       "      <td>0</td>\n",
       "      <td>1</td>\n",
       "      <td>1</td>\n",
       "      <td>1</td>\n",
       "      <td>8525</td>\n",
       "      <td>4</td>\n",
       "      <td>200</td>\n",
       "      <td>1</td>\n",
       "      <td>1403</td>\n",
       "      <td>1</td>\n",
       "      <td>1</td>\n",
       "    </tr>\n",
       "    <tr>\n",
       "      <th>3995</th>\n",
       "      <td>64385</td>\n",
       "      <td>0</td>\n",
       "      <td>1</td>\n",
       "      <td>1</td>\n",
       "      <td>1</td>\n",
       "      <td>981</td>\n",
       "      <td>5</td>\n",
       "      <td>0</td>\n",
       "      <td>0</td>\n",
       "      <td>1395</td>\n",
       "      <td>1</td>\n",
       "      <td>1</td>\n",
       "    </tr>\n",
       "    <tr>\n",
       "      <th>3996</th>\n",
       "      <td>73597</td>\n",
       "      <td>0</td>\n",
       "      <td>3</td>\n",
       "      <td>1</td>\n",
       "      <td>1</td>\n",
       "      <td>25447</td>\n",
       "      <td>8</td>\n",
       "      <td>0</td>\n",
       "      <td>0</td>\n",
       "      <td>1402</td>\n",
       "      <td>1</td>\n",
       "      <td>1</td>\n",
       "    </tr>\n",
       "    <tr>\n",
       "      <th>3997</th>\n",
       "      <td>54899</td>\n",
       "      <td>0</td>\n",
       "      <td>1</td>\n",
       "      <td>1</td>\n",
       "      <td>1</td>\n",
       "      <td>500</td>\n",
       "      <td>1</td>\n",
       "      <td>500</td>\n",
       "      <td>1</td>\n",
       "      <td>1401</td>\n",
       "      <td>0</td>\n",
       "      <td>0</td>\n",
       "    </tr>\n",
       "    <tr>\n",
       "      <th>3998</th>\n",
       "      <td>3016</td>\n",
       "      <td>0</td>\n",
       "      <td>1</td>\n",
       "      <td>1</td>\n",
       "      <td>1</td>\n",
       "      <td>0</td>\n",
       "      <td>0</td>\n",
       "      <td>0</td>\n",
       "      <td>0</td>\n",
       "      <td>1398</td>\n",
       "      <td>0</td>\n",
       "      <td>0</td>\n",
       "    </tr>\n",
       "  </tbody>\n",
       "</table>\n",
       "<p>3999 rows × 12 columns</p>\n",
       "</div>"
      ],
      "text/plain": [
       "      Balance  Qual_miles  cc1_miles  cc2_miles  cc3_miles  Bonus_miles  \\\n",
       "0       28143           0          1          1          1          174   \n",
       "1       19244           0          1          1          1          215   \n",
       "2       41354           0          1          1          1         4123   \n",
       "3       14776           0          1          1          1          500   \n",
       "4       97752           0          4          1          1        43300   \n",
       "...       ...         ...        ...        ...        ...          ...   \n",
       "3994    18476           0          1          1          1         8525   \n",
       "3995    64385           0          1          1          1          981   \n",
       "3996    73597           0          3          1          1        25447   \n",
       "3997    54899           0          1          1          1          500   \n",
       "3998     3016           0          1          1          1            0   \n",
       "\n",
       "      Bonus_trans  Flight_miles_12mo  Flight_trans_12  Days_since_enroll  \\\n",
       "0               1                  0                0               7000   \n",
       "1               2                  0                0               6968   \n",
       "2               4                  0                0               7034   \n",
       "3               1                  0                0               6952   \n",
       "4              26               2077                4               6935   \n",
       "...           ...                ...              ...                ...   \n",
       "3994            4                200                1               1403   \n",
       "3995            5                  0                0               1395   \n",
       "3996            8                  0                0               1402   \n",
       "3997            1                500                1               1401   \n",
       "3998            0                  0                0               1398   \n",
       "\n",
       "      Award?  db_clusterid  \n",
       "0          0             0  \n",
       "1          0             0  \n",
       "2          0             0  \n",
       "3          0             0  \n",
       "4          1             1  \n",
       "...      ...           ...  \n",
       "3994       1             1  \n",
       "3995       1             1  \n",
       "3996       1             1  \n",
       "3997       0             0  \n",
       "3998       0             0  \n",
       "\n",
       "[3999 rows x 12 columns]"
      ]
     },
     "execution_count": 70,
     "metadata": {},
     "output_type": "execute_result"
    }
   ],
   "source": [
    "# adding clusters to the dataset\n",
    "db_al['db_clusterid']=dbscan.labels_\n",
    "db_al"
   ]
  },
  {
   "cell_type": "code",
   "execution_count": 71,
   "id": "ee0feee5",
   "metadata": {
    "ExecuteTime": {
     "end_time": "2023-03-04T06:51:59.593668Z",
     "start_time": "2023-03-04T06:51:59.574117Z"
    }
   },
   "outputs": [
    {
     "data": {
      "text/html": [
       "<div>\n",
       "<style scoped>\n",
       "    .dataframe tbody tr th:only-of-type {\n",
       "        vertical-align: middle;\n",
       "    }\n",
       "\n",
       "    .dataframe tbody tr th {\n",
       "        vertical-align: top;\n",
       "    }\n",
       "\n",
       "    .dataframe thead tr th {\n",
       "        text-align: left;\n",
       "    }\n",
       "</style>\n",
       "<table border=\"1\" class=\"dataframe\">\n",
       "  <thead>\n",
       "    <tr>\n",
       "      <th></th>\n",
       "      <th>db_clusterid</th>\n",
       "      <th>Balance</th>\n",
       "      <th>Qual_miles</th>\n",
       "      <th>cc1_miles</th>\n",
       "      <th>cc2_miles</th>\n",
       "      <th>cc3_miles</th>\n",
       "      <th>Bonus_miles</th>\n",
       "      <th>Bonus_trans</th>\n",
       "      <th>Flight_miles_12mo</th>\n",
       "      <th>Flight_trans_12</th>\n",
       "      <th>Days_since_enroll</th>\n",
       "      <th>Award?</th>\n",
       "    </tr>\n",
       "    <tr>\n",
       "      <th></th>\n",
       "      <th></th>\n",
       "      <th>mean</th>\n",
       "      <th>mean</th>\n",
       "      <th>mean</th>\n",
       "      <th>mean</th>\n",
       "      <th>mean</th>\n",
       "      <th>mean</th>\n",
       "      <th>mean</th>\n",
       "      <th>mean</th>\n",
       "      <th>mean</th>\n",
       "      <th>mean</th>\n",
       "      <th>mean</th>\n",
       "    </tr>\n",
       "  </thead>\n",
       "  <tbody>\n",
       "    <tr>\n",
       "      <th>0</th>\n",
       "      <td>-1</td>\n",
       "      <td>84273.000000</td>\n",
       "      <td>166.666667</td>\n",
       "      <td>1.000000</td>\n",
       "      <td>1.000000</td>\n",
       "      <td>2.333333</td>\n",
       "      <td>118908.000000</td>\n",
       "      <td>32.666667</td>\n",
       "      <td>10479.666667</td>\n",
       "      <td>18.666667</td>\n",
       "      <td>1460.666667</td>\n",
       "      <td>0.666667</td>\n",
       "    </tr>\n",
       "    <tr>\n",
       "      <th>1</th>\n",
       "      <td>0</td>\n",
       "      <td>59798.169249</td>\n",
       "      <td>87.637267</td>\n",
       "      <td>1.705602</td>\n",
       "      <td>1.013905</td>\n",
       "      <td>1.007151</td>\n",
       "      <td>10198.320620</td>\n",
       "      <td>9.143822</td>\n",
       "      <td>226.382201</td>\n",
       "      <td>0.652761</td>\n",
       "      <td>3821.751291</td>\n",
       "      <td>0.000000</td>\n",
       "    </tr>\n",
       "    <tr>\n",
       "      <th>2</th>\n",
       "      <td>1</td>\n",
       "      <td>97070.248817</td>\n",
       "      <td>240.183232</td>\n",
       "      <td>2.663962</td>\n",
       "      <td>1.015551</td>\n",
       "      <td>1.018256</td>\n",
       "      <td>28760.204868</td>\n",
       "      <td>15.742394</td>\n",
       "      <td>837.403651</td>\n",
       "      <td>2.565247</td>\n",
       "      <td>4629.066261</td>\n",
       "      <td>1.000000</td>\n",
       "    </tr>\n",
       "  </tbody>\n",
       "</table>\n",
       "</div>"
      ],
      "text/plain": [
       "  db_clusterid       Balance  Qual_miles cc1_miles cc2_miles cc3_miles  \\\n",
       "                        mean        mean      mean      mean      mean   \n",
       "0           -1  84273.000000  166.666667  1.000000  1.000000  2.333333   \n",
       "1            0  59798.169249   87.637267  1.705602  1.013905  1.007151   \n",
       "2            1  97070.248817  240.183232  2.663962  1.015551  1.018256   \n",
       "\n",
       "     Bonus_miles Bonus_trans Flight_miles_12mo Flight_trans_12  \\\n",
       "            mean        mean              mean            mean   \n",
       "0  118908.000000   32.666667      10479.666667       18.666667   \n",
       "1   10198.320620    9.143822        226.382201        0.652761   \n",
       "2   28760.204868   15.742394        837.403651        2.565247   \n",
       "\n",
       "  Days_since_enroll    Award?  \n",
       "               mean      mean  \n",
       "0       1460.666667  0.666667  \n",
       "1       3821.751291  0.000000  \n",
       "2       4629.066261  1.000000  "
      ]
     },
     "execution_count": 71,
     "metadata": {},
     "output_type": "execute_result"
    }
   ],
   "source": [
    "db_al.groupby('db_clusterid').agg(['mean']).reset_index()"
   ]
  },
  {
   "cell_type": "code",
   "execution_count": 72,
   "id": "38c15176",
   "metadata": {
    "ExecuteTime": {
     "end_time": "2023-03-04T06:52:07.035821Z",
     "start_time": "2023-03-04T06:52:06.911586Z"
    }
   },
   "outputs": [
    {
     "data": {
      "image/png": "[encoded data removed]",
      "text/plain": [
       "<Figure size 500x500 with 1 Axes>"
      ]
     },
     "metadata": {},
     "output_type": "display_data"
    }
   ],
   "source": [
    "# Plot Clusters\n",
    "plt.figure(figsize=(5, 5))  \n",
    "plt.scatter(db_al['db_clusterid'],db_al['Balance'], c=dbscan.labels_) \n",
    "plt.show()"
   ]
  },
  {
   "cell_type": "code",
   "execution_count": null,
   "id": "6c12c192",
   "metadata": {},
   "outputs": [],
   "source": []
  }
 ],
 "metadata": {
  "kernelspec": {
   "display_name": "Python 3 (ipykernel)",
   "language": "python",
   "name": "python3"
  },
  "language_info": {
   "codemirror_mode": {
    "name": "ipython",
    "version": 3
   },
   "file_extension": ".py",
   "mimetype": "text/x-python",
   "name": "python",
   "nbconvert_exporter": "python",
   "pygments_lexer": "ipython3",
   "version": "3.9.13"
  }
 },
 "nbformat": 4,
 "nbformat_minor": 5
}

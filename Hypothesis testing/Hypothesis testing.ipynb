{
 "cells": [
  {
   "cell_type": "markdown",
   "id": "cda50a4b",
   "metadata": {},
   "source": [
    "# Question-1"
   ]
  },
  {
   "cell_type": "code",
   "execution_count": 1,
   "id": "c41a72c0",
   "metadata": {
    "ExecuteTime": {
     "end_time": "2023-02-27T07:37:06.581379Z",
     "start_time": "2023-02-27T07:37:06.543874Z"
    }
   },
   "outputs": [
    {
     "data": {
      "text/plain": [
       "'A F&B manager wants to determine whether there is any significant difference in the diameter of the cutlet between two units. A randomly selected sample of cutlets was collected from both units and measured? Analyze the data and draw inferences at 5% significance level. Please state the assumptions and tests that you carried out to check validity of the assumptions.'"
      ]
     },
     "execution_count": 1,
     "metadata": {},
     "output_type": "execute_result"
    }
   ],
   "source": [
    "#Question-1\n",
    "'''A F&B manager wants to determine whether there is any significant difference in the diameter of the cutlet between two units. A randomly selected sample of cutlets was collected from both units and measured? Analyze the data and draw inferences at 5% significance level. Please state the assumptions and tests that you carried out to check validity of the assumptions.'''"
   ]
  },
  {
   "cell_type": "code",
   "execution_count": 2,
   "id": "168ba254",
   "metadata": {
    "ExecuteTime": {
     "end_time": "2023-02-27T07:37:31.748878Z",
     "start_time": "2023-02-27T07:37:28.944114Z"
    }
   },
   "outputs": [],
   "source": [
    "import pandas as pd\n",
    "import scipy \n",
    "import numpy as np\n",
    "from scipy import stats"
   ]
  },
  {
   "cell_type": "code",
   "execution_count": 4,
   "id": "3d68504f",
   "metadata": {
    "ExecuteTime": {
     "end_time": "2023-02-27T07:38:37.407389Z",
     "start_time": "2023-02-27T07:38:37.397048Z"
    }
   },
   "outputs": [],
   "source": [
    "cutlet= pd.read_csv(\"D:\\\\Gurumurthy Assignments\\\\Hypothesis testing\\\\Cutlets.csv\")"
   ]
  },
  {
   "cell_type": "code",
   "execution_count": 5,
   "id": "01fb6022",
   "metadata": {
    "ExecuteTime": {
     "end_time": "2023-02-27T07:38:50.467140Z",
     "start_time": "2023-02-27T07:38:50.421187Z"
    }
   },
   "outputs": [
    {
     "data": {
      "text/html": [
       "<div>\n",
       "<style scoped>\n",
       "    .dataframe tbody tr th:only-of-type {\n",
       "        vertical-align: middle;\n",
       "    }\n",
       "\n",
       "    .dataframe tbody tr th {\n",
       "        vertical-align: top;\n",
       "    }\n",
       "\n",
       "    .dataframe thead th {\n",
       "        text-align: right;\n",
       "    }\n",
       "</style>\n",
       "<table border=\"1\" class=\"dataframe\">\n",
       "  <thead>\n",
       "    <tr style=\"text-align: right;\">\n",
       "      <th></th>\n",
       "      <th>Unit A</th>\n",
       "      <th>Unit B</th>\n",
       "    </tr>\n",
       "  </thead>\n",
       "  <tbody>\n",
       "    <tr>\n",
       "      <th>0</th>\n",
       "      <td>6.8090</td>\n",
       "      <td>6.7703</td>\n",
       "    </tr>\n",
       "    <tr>\n",
       "      <th>1</th>\n",
       "      <td>6.4376</td>\n",
       "      <td>7.5093</td>\n",
       "    </tr>\n",
       "    <tr>\n",
       "      <th>2</th>\n",
       "      <td>6.9157</td>\n",
       "      <td>6.7300</td>\n",
       "    </tr>\n",
       "    <tr>\n",
       "      <th>3</th>\n",
       "      <td>7.3012</td>\n",
       "      <td>6.7878</td>\n",
       "    </tr>\n",
       "    <tr>\n",
       "      <th>4</th>\n",
       "      <td>7.4488</td>\n",
       "      <td>7.1522</td>\n",
       "    </tr>\n",
       "  </tbody>\n",
       "</table>\n",
       "</div>"
      ],
      "text/plain": [
       "   Unit A  Unit B\n",
       "0  6.8090  6.7703\n",
       "1  6.4376  7.5093\n",
       "2  6.9157  6.7300\n",
       "3  7.3012  6.7878\n",
       "4  7.4488  7.1522"
      ]
     },
     "execution_count": 5,
     "metadata": {},
     "output_type": "execute_result"
    }
   ],
   "source": [
    "cutlet.head()"
   ]
  },
  {
   "cell_type": "code",
   "execution_count": 6,
   "id": "6446d90b",
   "metadata": {
    "ExecuteTime": {
     "end_time": "2023-02-27T07:39:02.936849Z",
     "start_time": "2023-02-27T07:39:02.921311Z"
    }
   },
   "outputs": [],
   "source": [
    "# null hypothesis H0: no difference in the diameter of the cutlet between the two units\n",
    "# alternative hypothesis H1: there is significant difference in the diameter of the cutlet between two units "
   ]
  },
  {
   "cell_type": "code",
   "execution_count": 7,
   "id": "dbdd36ef",
   "metadata": {
    "ExecuteTime": {
     "end_time": "2023-02-27T07:39:12.289987Z",
     "start_time": "2023-02-27T07:39:12.271033Z"
    }
   },
   "outputs": [],
   "source": [
    "A= pd.Series(cutlet.iloc[:,0])\n",
    "B=pd.Series(cutlet.iloc[:,1])"
   ]
  },
  {
   "cell_type": "code",
   "execution_count": 8,
   "id": "ca09a9d8",
   "metadata": {
    "ExecuteTime": {
     "end_time": "2023-02-27T07:39:20.200349Z",
     "start_time": "2023-02-27T07:39:20.165103Z"
    }
   },
   "outputs": [
    {
     "data": {
      "text/plain": [
       "Ttest_indResult(statistic=0.7228688704678063, pvalue=0.4722394724599501)"
      ]
     },
     "execution_count": 8,
     "metadata": {},
     "output_type": "execute_result"
    }
   ],
   "source": [
    "stats.ttest_ind(A,B,alternative='two-sided')"
   ]
  },
  {
   "cell_type": "code",
   "execution_count": 9,
   "id": "db3c1752",
   "metadata": {
    "ExecuteTime": {
     "end_time": "2023-02-27T07:43:14.093375Z",
     "start_time": "2023-02-27T07:43:14.078311Z"
    }
   },
   "outputs": [
    {
     "data": {
      "text/plain": [
       "'null hypothesis is true'"
      ]
     },
     "execution_count": 9,
     "metadata": {},
     "output_type": "execute_result"
    }
   ],
   "source": [
    "# significane value is 5% and p_value is 47%\n",
    "# Since P_value is greater than significance value \n",
    "'''null hypothesis is true'''"
   ]
  },
  {
   "cell_type": "code",
   "execution_count": 10,
   "id": "09d1b2fc",
   "metadata": {
    "ExecuteTime": {
     "end_time": "2023-02-27T07:43:31.883935Z",
     "start_time": "2023-02-27T07:43:31.854166Z"
    }
   },
   "outputs": [
    {
     "data": {
      "text/plain": [
       "'no difference in the diameter of the cutlet between the two units'"
      ]
     },
     "execution_count": 10,
     "metadata": {},
     "output_type": "execute_result"
    }
   ],
   "source": [
    "'''no difference in the diameter of the cutlet between the two units'''"
   ]
  },
  {
   "cell_type": "markdown",
   "id": "452830ed",
   "metadata": {},
   "source": [
    "# Question no -02"
   ]
  },
  {
   "cell_type": "code",
   "execution_count": 11,
   "id": "eeff0b98",
   "metadata": {
    "ExecuteTime": {
     "end_time": "2023-02-27T07:44:03.038711Z",
     "start_time": "2023-02-27T07:44:03.024069Z"
    }
   },
   "outputs": [
    {
     "data": {
      "text/plain": [
       "'   A hospital wants to determine whether there is any difference in the average Turn Around Time (TAT) of reports of the laboratories on their preferred list. They collected a random sample and recorded TAT for reports of 4 laboratories. TAT is defined as sample collected to report dispatch.\\n\\n  Analyze the data and determine whether there is any difference in average TAT among the different laboratories at 5% significance level.\\n'"
      ]
     },
     "execution_count": 11,
     "metadata": {},
     "output_type": "execute_result"
    }
   ],
   "source": [
    "# Question no -02\n",
    "'''   A hospital wants to determine whether there is any difference in the average Turn Around Time (TAT) of reports of the laboratories on their preferred list. They collected a random sample and recorded TAT for reports of 4 laboratories. TAT is defined as sample collected to report dispatch.\n",
    "\n",
    "  Analyze the data and determine whether there is any difference in average TAT among the different laboratories at 5% significance level.\n",
    "'''"
   ]
  },
  {
   "cell_type": "code",
   "execution_count": 13,
   "id": "f62910c4",
   "metadata": {
    "ExecuteTime": {
     "end_time": "2023-02-27T07:45:20.062953Z",
     "start_time": "2023-02-27T07:45:20.031125Z"
    }
   },
   "outputs": [],
   "source": [
    "LabTAT= pd.read_csv(\"D:\\Gurumurthy Assignments\\Hypothesis testing\\LabTAT.csv\")\n",
    "#significance level (alpha=5%)\n",
    "alpha0=0.05"
   ]
  },
  {
   "cell_type": "code",
   "execution_count": 14,
   "id": "49f5564f",
   "metadata": {
    "ExecuteTime": {
     "end_time": "2023-02-27T07:45:33.724259Z",
     "start_time": "2023-02-27T07:45:33.672628Z"
    }
   },
   "outputs": [
    {
     "data": {
      "text/html": [
       "<div>\n",
       "<style scoped>\n",
       "    .dataframe tbody tr th:only-of-type {\n",
       "        vertical-align: middle;\n",
       "    }\n",
       "\n",
       "    .dataframe tbody tr th {\n",
       "        vertical-align: top;\n",
       "    }\n",
       "\n",
       "    .dataframe thead th {\n",
       "        text-align: right;\n",
       "    }\n",
       "</style>\n",
       "<table border=\"1\" class=\"dataframe\">\n",
       "  <thead>\n",
       "    <tr style=\"text-align: right;\">\n",
       "      <th></th>\n",
       "      <th>Laboratory 1</th>\n",
       "      <th>Laboratory 2</th>\n",
       "      <th>Laboratory 3</th>\n",
       "      <th>Laboratory 4</th>\n",
       "    </tr>\n",
       "  </thead>\n",
       "  <tbody>\n",
       "    <tr>\n",
       "      <th>0</th>\n",
       "      <td>185.35</td>\n",
       "      <td>165.53</td>\n",
       "      <td>176.70</td>\n",
       "      <td>166.13</td>\n",
       "    </tr>\n",
       "    <tr>\n",
       "      <th>1</th>\n",
       "      <td>170.49</td>\n",
       "      <td>185.91</td>\n",
       "      <td>198.45</td>\n",
       "      <td>160.79</td>\n",
       "    </tr>\n",
       "    <tr>\n",
       "      <th>2</th>\n",
       "      <td>192.77</td>\n",
       "      <td>194.92</td>\n",
       "      <td>201.23</td>\n",
       "      <td>185.18</td>\n",
       "    </tr>\n",
       "    <tr>\n",
       "      <th>3</th>\n",
       "      <td>177.33</td>\n",
       "      <td>183.00</td>\n",
       "      <td>199.61</td>\n",
       "      <td>176.42</td>\n",
       "    </tr>\n",
       "    <tr>\n",
       "      <th>4</th>\n",
       "      <td>193.41</td>\n",
       "      <td>169.57</td>\n",
       "      <td>204.63</td>\n",
       "      <td>152.60</td>\n",
       "    </tr>\n",
       "  </tbody>\n",
       "</table>\n",
       "</div>"
      ],
      "text/plain": [
       "   Laboratory 1  Laboratory 2  Laboratory 3  Laboratory 4\n",
       "0        185.35        165.53        176.70        166.13\n",
       "1        170.49        185.91        198.45        160.79\n",
       "2        192.77        194.92        201.23        185.18\n",
       "3        177.33        183.00        199.61        176.42\n",
       "4        193.41        169.57        204.63        152.60"
      ]
     },
     "execution_count": 14,
     "metadata": {},
     "output_type": "execute_result"
    }
   ],
   "source": [
    "LabTAT.head()"
   ]
  },
  {
   "cell_type": "code",
   "execution_count": 15,
   "id": "c16366c0",
   "metadata": {
    "ExecuteTime": {
     "end_time": "2023-02-27T07:45:44.761618Z",
     "start_time": "2023-02-27T07:45:44.743401Z"
    }
   },
   "outputs": [],
   "source": [
    "Lab1=pd.Series(LabTAT.iloc[:,0])\n",
    "Lab2=pd.Series(LabTAT.iloc[:,1])\n",
    "Lab3=pd.Series(LabTAT.iloc[:,2])\n",
    "Lab4=pd.Series(LabTAT.iloc[:,3])\n"
   ]
  },
  {
   "cell_type": "code",
   "execution_count": 16,
   "id": "22c33b89",
   "metadata": {
    "ExecuteTime": {
     "end_time": "2023-02-27T07:45:53.161328Z",
     "start_time": "2023-02-27T07:45:53.116995Z"
    }
   },
   "outputs": [
    {
     "data": {
      "text/plain": [
       "F_onewayResult(statistic=118.70421654401437, pvalue=2.1156708949992414e-57)"
      ]
     },
     "execution_count": 16,
     "metadata": {},
     "output_type": "execute_result"
    }
   ],
   "source": [
    "stats.f_oneway(LabTAT.iloc[:,0], LabTAT.iloc[:,1],LabTAT.iloc[:,2],LabTAT.iloc[:,3])"
   ]
  },
  {
   "cell_type": "code",
   "execution_count": 17,
   "id": "71c1c319",
   "metadata": {
    "ExecuteTime": {
     "end_time": "2023-02-27T07:46:07.867406Z",
     "start_time": "2023-02-27T07:46:07.845574Z"
    }
   },
   "outputs": [
    {
     "name": "stdout",
     "output_type": "stream",
     "text": [
      "significance=0.05, p=0.00\n",
      "there is difference in average TAT among the different laboratories & reject the null hyopthesis \n"
     ]
    }
   ],
   "source": [
    "p_val= 2.1156708949992414e-57\n",
    "alpha0=0.05\n",
    "print('significance=%.2f, p=%.2f' %(alpha0, p_val))\n",
    "if p_val <= alpha0:\n",
    "    print('there is difference in average TAT among the different laboratories & reject the null hyopthesis ')\n",
    "else:\n",
    "    print('there is no difference in average TAT among the different laboratories & accept the null hypothesis')\n",
    "\n"
   ]
  },
  {
   "cell_type": "markdown",
   "id": "3ac83e56",
   "metadata": {},
   "source": [
    "# Question no -03"
   ]
  },
  {
   "cell_type": "code",
   "execution_count": 18,
   "id": "e2219c04",
   "metadata": {
    "ExecuteTime": {
     "end_time": "2023-02-27T07:46:38.870579Z",
     "start_time": "2023-02-27T07:46:38.854057Z"
    }
   },
   "outputs": [],
   "source": [
    "# Question no -03\n",
    "'''Find if male-female buyer rations are similar across regions.'''\n",
    "\n",
    "from scipy.stats import chi2_contingency\n",
    "#ho: all proportions are equal\n",
    "#h1:  not all proportions are equal\n"
   ]
  },
  {
   "cell_type": "code",
   "execution_count": 20,
   "id": "dd5e0287",
   "metadata": {
    "ExecuteTime": {
     "end_time": "2023-02-27T07:47:21.846950Z",
     "start_time": "2023-02-27T07:47:21.832909Z"
    }
   },
   "outputs": [],
   "source": [
    "Br=pd.read_csv(\"D:\\Gurumurthy Assignments\\Hypothesis testing\\BuyerRatio.csv\")"
   ]
  },
  {
   "cell_type": "code",
   "execution_count": 21,
   "id": "c97c0da1",
   "metadata": {
    "ExecuteTime": {
     "end_time": "2023-02-27T07:47:33.659300Z",
     "start_time": "2023-02-27T07:47:33.634961Z"
    }
   },
   "outputs": [],
   "source": [
    "Br1=Br.set_index('Observed Values')\n"
   ]
  },
  {
   "cell_type": "code",
   "execution_count": 22,
   "id": "79527327",
   "metadata": {
    "ExecuteTime": {
     "end_time": "2023-02-27T07:47:42.536961Z",
     "start_time": "2023-02-27T07:47:42.520691Z"
    }
   },
   "outputs": [],
   "source": [
    "sts, p, dof, expected = chi2_contingency(Br1)"
   ]
  },
  {
   "cell_type": "code",
   "execution_count": 23,
   "id": "ef69434f",
   "metadata": {
    "ExecuteTime": {
     "end_time": "2023-02-27T07:47:50.811956Z",
     "start_time": "2023-02-27T07:47:50.787496Z"
    }
   },
   "outputs": [
    {
     "data": {
      "text/plain": [
       "1.595945538661058"
      ]
     },
     "execution_count": 23,
     "metadata": {},
     "output_type": "execute_result"
    }
   ],
   "source": [
    "sts"
   ]
  },
  {
   "cell_type": "code",
   "execution_count": 24,
   "id": "96ada4a8",
   "metadata": {
    "ExecuteTime": {
     "end_time": "2023-02-27T07:47:59.708224Z",
     "start_time": "2023-02-27T07:47:59.684557Z"
    }
   },
   "outputs": [
    {
     "data": {
      "text/plain": [
       "0.6603094907091882"
      ]
     },
     "execution_count": 24,
     "metadata": {},
     "output_type": "execute_result"
    }
   ],
   "source": [
    "p"
   ]
  },
  {
   "cell_type": "code",
   "execution_count": 25,
   "id": "c82e1ff5",
   "metadata": {
    "ExecuteTime": {
     "end_time": "2023-02-27T07:48:08.071075Z",
     "start_time": "2023-02-27T07:48:08.055903Z"
    }
   },
   "outputs": [
    {
     "data": {
      "text/plain": [
       "3"
      ]
     },
     "execution_count": 25,
     "metadata": {},
     "output_type": "execute_result"
    }
   ],
   "source": [
    "dof"
   ]
  },
  {
   "cell_type": "code",
   "execution_count": 26,
   "id": "304c2c3d",
   "metadata": {
    "ExecuteTime": {
     "end_time": "2023-02-27T07:48:15.243947Z",
     "start_time": "2023-02-27T07:48:15.230936Z"
    }
   },
   "outputs": [
    {
     "data": {
      "text/plain": [
       "array([[  42.76531299,  146.81287862,  131.11756787,   72.30424052],\n",
       "       [ 442.23468701, 1518.18712138, 1355.88243213,  747.69575948]])"
      ]
     },
     "execution_count": 26,
     "metadata": {},
     "output_type": "execute_result"
    }
   ],
   "source": [
    "expected"
   ]
  },
  {
   "cell_type": "code",
   "execution_count": 30,
   "id": "bb26875e",
   "metadata": {
    "ExecuteTime": {
     "end_time": "2023-02-27T07:51:30.901156Z",
     "start_time": "2023-02-27T07:51:30.891331Z"
    }
   },
   "outputs": [
    {
     "name": "stdout",
     "output_type": "stream",
     "text": [
      "significance=0.05, p=0.66\n",
      "fail to reject H0 (all proportions are equal)\n"
     ]
    }
   ],
   "source": [
    "alpha=0.05\n",
    "print('significance=%.2f, p=%.2f' %(alpha, p))\n",
    "if p <= alpha:\n",
    "    print('reject null hypothesis(not all proportions are equal)')\n",
    "else:\n",
    "    print('fail to reject H0 (all proportions are equal)')"
   ]
  },
  {
   "cell_type": "markdown",
   "id": "329fcc2a",
   "metadata": {},
   "source": [
    "# question -04"
   ]
  },
  {
   "cell_type": "code",
   "execution_count": 32,
   "id": "3aac373e",
   "metadata": {
    "ExecuteTime": {
     "end_time": "2023-02-27T07:52:26.231918Z",
     "start_time": "2023-02-27T07:52:26.216475Z"
    }
   },
   "outputs": [
    {
     "data": {
      "text/plain": [
       "'     TeleCall uses 4 centers around the globe to process customer order forms. They audit a certain %  of the customer order forms. Any error in order form renders it defective and has to be reworked before processing.  The manager wants to check whether the defective %  varies by centre. Please analyze the data at 5% significance level and help the manager draw appropriate inferences'"
      ]
     },
     "execution_count": 32,
     "metadata": {},
     "output_type": "execute_result"
    }
   ],
   "source": [
    "#question -04\n",
    "'''     TeleCall uses 4 centers around the globe to process customer order forms. They audit a certain %  of the customer order forms. Any error in order form renders it defective and has to be reworked before processing.  The manager wants to check whether the defective %  varies by centre. Please analyze the data at 5% significance level and help the manager draw appropriate inferences'''"
   ]
  },
  {
   "cell_type": "code",
   "execution_count": 34,
   "id": "2048e79d",
   "metadata": {
    "ExecuteTime": {
     "end_time": "2023-02-27T07:53:06.493040Z",
     "start_time": "2023-02-27T07:53:06.460973Z"
    }
   },
   "outputs": [],
   "source": [
    "Cu=pd.read_csv(\"D:\\Gurumurthy Assignments\\Hypothesis testing\\Costomer+OrderForm.csv\")\n",
    "#significance level(alpha=5%)\n",
    "alpha1=0.05"
   ]
  },
  {
   "cell_type": "code",
   "execution_count": 35,
   "id": "e22d84cc",
   "metadata": {
    "ExecuteTime": {
     "end_time": "2023-02-27T07:53:18.139542Z",
     "start_time": "2023-02-27T07:53:18.117574Z"
    }
   },
   "outputs": [
    {
     "data": {
      "text/html": [
       "<div>\n",
       "<style scoped>\n",
       "    .dataframe tbody tr th:only-of-type {\n",
       "        vertical-align: middle;\n",
       "    }\n",
       "\n",
       "    .dataframe tbody tr th {\n",
       "        vertical-align: top;\n",
       "    }\n",
       "\n",
       "    .dataframe thead th {\n",
       "        text-align: right;\n",
       "    }\n",
       "</style>\n",
       "<table border=\"1\" class=\"dataframe\">\n",
       "  <thead>\n",
       "    <tr style=\"text-align: right;\">\n",
       "      <th></th>\n",
       "      <th>Phillippines</th>\n",
       "      <th>Indonesia</th>\n",
       "      <th>Malta</th>\n",
       "      <th>India</th>\n",
       "    </tr>\n",
       "  </thead>\n",
       "  <tbody>\n",
       "    <tr>\n",
       "      <th>0</th>\n",
       "      <td>Error Free</td>\n",
       "      <td>Error Free</td>\n",
       "      <td>Defective</td>\n",
       "      <td>Error Free</td>\n",
       "    </tr>\n",
       "    <tr>\n",
       "      <th>1</th>\n",
       "      <td>Error Free</td>\n",
       "      <td>Error Free</td>\n",
       "      <td>Error Free</td>\n",
       "      <td>Defective</td>\n",
       "    </tr>\n",
       "    <tr>\n",
       "      <th>2</th>\n",
       "      <td>Error Free</td>\n",
       "      <td>Defective</td>\n",
       "      <td>Defective</td>\n",
       "      <td>Error Free</td>\n",
       "    </tr>\n",
       "    <tr>\n",
       "      <th>3</th>\n",
       "      <td>Error Free</td>\n",
       "      <td>Error Free</td>\n",
       "      <td>Error Free</td>\n",
       "      <td>Error Free</td>\n",
       "    </tr>\n",
       "    <tr>\n",
       "      <th>4</th>\n",
       "      <td>Error Free</td>\n",
       "      <td>Error Free</td>\n",
       "      <td>Defective</td>\n",
       "      <td>Error Free</td>\n",
       "    </tr>\n",
       "    <tr>\n",
       "      <th>...</th>\n",
       "      <td>...</td>\n",
       "      <td>...</td>\n",
       "      <td>...</td>\n",
       "      <td>...</td>\n",
       "    </tr>\n",
       "    <tr>\n",
       "      <th>295</th>\n",
       "      <td>Error Free</td>\n",
       "      <td>Error Free</td>\n",
       "      <td>Error Free</td>\n",
       "      <td>Error Free</td>\n",
       "    </tr>\n",
       "    <tr>\n",
       "      <th>296</th>\n",
       "      <td>Error Free</td>\n",
       "      <td>Error Free</td>\n",
       "      <td>Error Free</td>\n",
       "      <td>Error Free</td>\n",
       "    </tr>\n",
       "    <tr>\n",
       "      <th>297</th>\n",
       "      <td>Error Free</td>\n",
       "      <td>Error Free</td>\n",
       "      <td>Defective</td>\n",
       "      <td>Error Free</td>\n",
       "    </tr>\n",
       "    <tr>\n",
       "      <th>298</th>\n",
       "      <td>Error Free</td>\n",
       "      <td>Error Free</td>\n",
       "      <td>Error Free</td>\n",
       "      <td>Error Free</td>\n",
       "    </tr>\n",
       "    <tr>\n",
       "      <th>299</th>\n",
       "      <td>Error Free</td>\n",
       "      <td>Defective</td>\n",
       "      <td>Defective</td>\n",
       "      <td>Error Free</td>\n",
       "    </tr>\n",
       "  </tbody>\n",
       "</table>\n",
       "<p>300 rows × 4 columns</p>\n",
       "</div>"
      ],
      "text/plain": [
       "    Phillippines   Indonesia       Malta       India\n",
       "0     Error Free  Error Free   Defective  Error Free\n",
       "1     Error Free  Error Free  Error Free   Defective\n",
       "2     Error Free   Defective   Defective  Error Free\n",
       "3     Error Free  Error Free  Error Free  Error Free\n",
       "4     Error Free  Error Free   Defective  Error Free\n",
       "..           ...         ...         ...         ...\n",
       "295   Error Free  Error Free  Error Free  Error Free\n",
       "296   Error Free  Error Free  Error Free  Error Free\n",
       "297   Error Free  Error Free   Defective  Error Free\n",
       "298   Error Free  Error Free  Error Free  Error Free\n",
       "299   Error Free   Defective   Defective  Error Free\n",
       "\n",
       "[300 rows x 4 columns]"
      ]
     },
     "execution_count": 35,
     "metadata": {},
     "output_type": "execute_result"
    }
   ],
   "source": [
    "Cu"
   ]
  },
  {
   "cell_type": "code",
   "execution_count": 36,
   "id": "28d2eb80",
   "metadata": {
    "ExecuteTime": {
     "end_time": "2023-02-27T07:53:29.890649Z",
     "start_time": "2023-02-27T07:53:29.854976Z"
    }
   },
   "outputs": [
    {
     "name": "stdout",
     "output_type": "stream",
     "text": [
      "Error Free    271\n",
      "Defective      29\n",
      "Name: Phillippines, dtype: int64 Error Free    267\n",
      "Defective      33\n",
      "Name: Indonesia, dtype: int64 Error Free    269\n",
      "Defective      31\n",
      "Name: Malta, dtype: int64 Error Free    280\n",
      "Defective      20\n",
      "Name: India, dtype: int64\n"
     ]
    }
   ],
   "source": [
    "print(Cu['Phillippines'].value_counts(),\n",
    "Cu['Indonesia'].value_counts(),\n",
    "Cu['Malta'].value_counts(),\n",
    "Cu['India'].value_counts()\n",
    "     )"
   ]
  },
  {
   "cell_type": "code",
   "execution_count": 37,
   "id": "170f66b3",
   "metadata": {
    "ExecuteTime": {
     "end_time": "2023-02-27T07:53:47.323339Z",
     "start_time": "2023-02-27T07:53:47.307316Z"
    }
   },
   "outputs": [],
   "source": [
    "ob=[[271,267,269,280],[29,33,31,20]]"
   ]
  },
  {
   "cell_type": "code",
   "execution_count": 38,
   "id": "00edf105",
   "metadata": {
    "ExecuteTime": {
     "end_time": "2023-02-27T07:53:56.911727Z",
     "start_time": "2023-02-27T07:53:56.896442Z"
    }
   },
   "outputs": [
    {
     "data": {
      "text/plain": [
       "[[271, 267, 269, 280], [29, 33, 31, 20]]"
      ]
     },
     "execution_count": 38,
     "metadata": {},
     "output_type": "execute_result"
    }
   ],
   "source": [
    "ob"
   ]
  },
  {
   "cell_type": "code",
   "execution_count": 39,
   "id": "aa377a84",
   "metadata": {
    "ExecuteTime": {
     "end_time": "2023-02-27T07:54:07.578613Z",
     "start_time": "2023-02-27T07:54:07.559382Z"
    }
   },
   "outputs": [],
   "source": [
    "stat1, p1, dof1, expected1 = chi2_contingency(ob)"
   ]
  },
  {
   "cell_type": "code",
   "execution_count": 40,
   "id": "2a27b670",
   "metadata": {
    "ExecuteTime": {
     "end_time": "2023-02-27T07:54:19.051557Z",
     "start_time": "2023-02-27T07:54:19.027532Z"
    }
   },
   "outputs": [
    {
     "data": {
      "text/plain": [
       "3.858960685820355"
      ]
     },
     "execution_count": 40,
     "metadata": {},
     "output_type": "execute_result"
    }
   ],
   "source": [
    "stat1"
   ]
  },
  {
   "cell_type": "code",
   "execution_count": 41,
   "id": "450b67a5",
   "metadata": {
    "ExecuteTime": {
     "end_time": "2023-02-27T07:54:32.312641Z",
     "start_time": "2023-02-27T07:54:32.288515Z"
    }
   },
   "outputs": [
    {
     "data": {
      "text/plain": [
       "0.2771020991233135"
      ]
     },
     "execution_count": 41,
     "metadata": {},
     "output_type": "execute_result"
    }
   ],
   "source": [
    "p1"
   ]
  },
  {
   "cell_type": "code",
   "execution_count": 42,
   "id": "4e0c893b",
   "metadata": {
    "ExecuteTime": {
     "end_time": "2023-02-27T07:54:39.220664Z",
     "start_time": "2023-02-27T07:54:39.204273Z"
    }
   },
   "outputs": [
    {
     "data": {
      "text/plain": [
       "3"
      ]
     },
     "execution_count": 42,
     "metadata": {},
     "output_type": "execute_result"
    }
   ],
   "source": [
    "dof1"
   ]
  },
  {
   "cell_type": "code",
   "execution_count": 43,
   "id": "806daa7c",
   "metadata": {
    "ExecuteTime": {
     "end_time": "2023-02-27T07:54:48.315558Z",
     "start_time": "2023-02-27T07:54:48.298054Z"
    }
   },
   "outputs": [
    {
     "data": {
      "text/plain": [
       "array([[271.75, 271.75, 271.75, 271.75],\n",
       "       [ 28.25,  28.25,  28.25,  28.25]])"
      ]
     },
     "execution_count": 43,
     "metadata": {},
     "output_type": "execute_result"
    }
   ],
   "source": [
    "expected1"
   ]
  },
  {
   "cell_type": "code",
   "execution_count": 44,
   "id": "c0ab4ae6",
   "metadata": {
    "ExecuteTime": {
     "end_time": "2023-02-27T07:55:02.956974Z",
     "start_time": "2023-02-27T07:55:02.933677Z"
    }
   },
   "outputs": [
    {
     "name": "stdout",
     "output_type": "stream",
     "text": [
      "significance=0.05, p=0.28\n",
      "Independent & accept the null hypothesis\n"
     ]
    }
   ],
   "source": [
    "print('significance=%.2f, p=%.2f' %(alpha1, p1))\n",
    "if p1 <= alpha1:\n",
    "    print('dependent & reject the null hyopthesis ')\n",
    "else:\n",
    "    print('Independent & accept the null hypothesis')\n",
    "    "
   ]
  },
  {
   "cell_type": "code",
   "execution_count": null,
   "id": "8ae06693",
   "metadata": {},
   "outputs": [],
   "source": []
  }
 ],
 "metadata": {
  "kernelspec": {
   "display_name": "Python 3 (ipykernel)",
   "language": "python",
   "name": "python3"
  },
  "language_info": {
   "codemirror_mode": {
    "name": "ipython",
    "version": 3
   },
   "file_extension": ".py",
   "mimetype": "text/x-python",
   "name": "python",
   "nbconvert_exporter": "python",
   "pygments_lexer": "ipython3",
   "version": "3.9.13"
  }
 },
 "nbformat": 4,
 "nbformat_minor": 5
}

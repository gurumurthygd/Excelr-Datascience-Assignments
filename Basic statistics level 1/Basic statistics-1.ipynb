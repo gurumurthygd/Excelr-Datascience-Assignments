{
 "cells": [
  {
   "cell_type": "markdown",
   "id": "4c6ebd72",
   "metadata": {},
   "source": [
    "# Basic statistics 01 ( Gurumurthy G D)\n"
   ]
  },
  {
   "cell_type": "code",
   "execution_count": 1,
   "id": "99ac5de5",
   "metadata": {
    "ExecuteTime": {
     "end_time": "2023-02-18T10:18:14.807328Z",
     "start_time": "2023-02-18T10:18:11.001389Z"
    }
   },
   "outputs": [],
   "source": [
    "import pandas as pd\n",
    "import numpy as np\n",
    "import matplotlib.pyplot as mpl\n",
    "import seaborn as sns\n",
    "import scipy as sp\n",
    "import warnings\n",
    "warnings.filterwarnings('ignore')\n",
    "%matplotlib inline"
   ]
  },
  {
   "cell_type": "code",
   "execution_count": 3,
   "id": "370aeb5d",
   "metadata": {
    "ExecuteTime": {
     "end_time": "2023-02-18T10:19:43.982688Z",
     "start_time": "2023-02-18T10:19:43.941082Z"
    }
   },
   "outputs": [],
   "source": [
    "df=pd.read_csv(\"D:\\Assignments\\Basic statistics level 1\\Q7.csv\")"
   ]
  },
  {
   "cell_type": "code",
   "execution_count": 4,
   "id": "344a0e92",
   "metadata": {
    "ExecuteTime": {
     "end_time": "2023-02-18T10:19:48.178002Z",
     "start_time": "2023-02-18T10:19:48.096324Z"
    }
   },
   "outputs": [
    {
     "data": {
      "text/html": [
       "<div>\n",
       "<style scoped>\n",
       "    .dataframe tbody tr th:only-of-type {\n",
       "        vertical-align: middle;\n",
       "    }\n",
       "\n",
       "    .dataframe tbody tr th {\n",
       "        vertical-align: top;\n",
       "    }\n",
       "\n",
       "    .dataframe thead th {\n",
       "        text-align: right;\n",
       "    }\n",
       "</style>\n",
       "<table border=\"1\" class=\"dataframe\">\n",
       "  <thead>\n",
       "    <tr style=\"text-align: right;\">\n",
       "      <th></th>\n",
       "      <th>Unnamed: 0</th>\n",
       "      <th>Points</th>\n",
       "      <th>Score</th>\n",
       "      <th>Weigh</th>\n",
       "    </tr>\n",
       "  </thead>\n",
       "  <tbody>\n",
       "    <tr>\n",
       "      <th>0</th>\n",
       "      <td>Mazda RX4</td>\n",
       "      <td>3.90</td>\n",
       "      <td>2.620</td>\n",
       "      <td>16.46</td>\n",
       "    </tr>\n",
       "    <tr>\n",
       "      <th>1</th>\n",
       "      <td>Mazda RX4 Wag</td>\n",
       "      <td>3.90</td>\n",
       "      <td>2.875</td>\n",
       "      <td>17.02</td>\n",
       "    </tr>\n",
       "    <tr>\n",
       "      <th>2</th>\n",
       "      <td>Datsun 710</td>\n",
       "      <td>3.85</td>\n",
       "      <td>2.320</td>\n",
       "      <td>18.61</td>\n",
       "    </tr>\n",
       "    <tr>\n",
       "      <th>3</th>\n",
       "      <td>Hornet 4 Drive</td>\n",
       "      <td>3.08</td>\n",
       "      <td>3.215</td>\n",
       "      <td>19.44</td>\n",
       "    </tr>\n",
       "    <tr>\n",
       "      <th>4</th>\n",
       "      <td>Hornet Sportabout</td>\n",
       "      <td>3.15</td>\n",
       "      <td>3.440</td>\n",
       "      <td>17.02</td>\n",
       "    </tr>\n",
       "    <tr>\n",
       "      <th>5</th>\n",
       "      <td>Valiant</td>\n",
       "      <td>2.76</td>\n",
       "      <td>3.460</td>\n",
       "      <td>20.22</td>\n",
       "    </tr>\n",
       "    <tr>\n",
       "      <th>6</th>\n",
       "      <td>Duster 360</td>\n",
       "      <td>3.21</td>\n",
       "      <td>3.570</td>\n",
       "      <td>15.84</td>\n",
       "    </tr>\n",
       "    <tr>\n",
       "      <th>7</th>\n",
       "      <td>Merc 240D</td>\n",
       "      <td>3.69</td>\n",
       "      <td>3.190</td>\n",
       "      <td>20.00</td>\n",
       "    </tr>\n",
       "    <tr>\n",
       "      <th>8</th>\n",
       "      <td>Merc 230</td>\n",
       "      <td>3.92</td>\n",
       "      <td>3.150</td>\n",
       "      <td>22.90</td>\n",
       "    </tr>\n",
       "    <tr>\n",
       "      <th>9</th>\n",
       "      <td>Merc 280</td>\n",
       "      <td>3.92</td>\n",
       "      <td>3.440</td>\n",
       "      <td>18.30</td>\n",
       "    </tr>\n",
       "    <tr>\n",
       "      <th>10</th>\n",
       "      <td>Merc 280C</td>\n",
       "      <td>3.92</td>\n",
       "      <td>3.440</td>\n",
       "      <td>18.90</td>\n",
       "    </tr>\n",
       "    <tr>\n",
       "      <th>11</th>\n",
       "      <td>Merc 450SE</td>\n",
       "      <td>3.07</td>\n",
       "      <td>4.070</td>\n",
       "      <td>17.40</td>\n",
       "    </tr>\n",
       "    <tr>\n",
       "      <th>12</th>\n",
       "      <td>Merc 450SL</td>\n",
       "      <td>3.07</td>\n",
       "      <td>3.730</td>\n",
       "      <td>17.60</td>\n",
       "    </tr>\n",
       "    <tr>\n",
       "      <th>13</th>\n",
       "      <td>Merc 450SLC</td>\n",
       "      <td>3.07</td>\n",
       "      <td>3.780</td>\n",
       "      <td>18.00</td>\n",
       "    </tr>\n",
       "    <tr>\n",
       "      <th>14</th>\n",
       "      <td>Cadillac Fleetwood</td>\n",
       "      <td>2.93</td>\n",
       "      <td>5.250</td>\n",
       "      <td>17.98</td>\n",
       "    </tr>\n",
       "    <tr>\n",
       "      <th>15</th>\n",
       "      <td>Lincoln Continental</td>\n",
       "      <td>3.00</td>\n",
       "      <td>5.424</td>\n",
       "      <td>17.82</td>\n",
       "    </tr>\n",
       "    <tr>\n",
       "      <th>16</th>\n",
       "      <td>Chrysler Imperial</td>\n",
       "      <td>3.23</td>\n",
       "      <td>5.345</td>\n",
       "      <td>17.42</td>\n",
       "    </tr>\n",
       "    <tr>\n",
       "      <th>17</th>\n",
       "      <td>Fiat 128</td>\n",
       "      <td>4.08</td>\n",
       "      <td>2.200</td>\n",
       "      <td>19.47</td>\n",
       "    </tr>\n",
       "    <tr>\n",
       "      <th>18</th>\n",
       "      <td>Honda Civic</td>\n",
       "      <td>4.93</td>\n",
       "      <td>1.615</td>\n",
       "      <td>18.52</td>\n",
       "    </tr>\n",
       "    <tr>\n",
       "      <th>19</th>\n",
       "      <td>Toyota Corolla</td>\n",
       "      <td>4.22</td>\n",
       "      <td>1.835</td>\n",
       "      <td>19.90</td>\n",
       "    </tr>\n",
       "    <tr>\n",
       "      <th>20</th>\n",
       "      <td>Toyota Corona</td>\n",
       "      <td>3.70</td>\n",
       "      <td>2.465</td>\n",
       "      <td>20.01</td>\n",
       "    </tr>\n",
       "    <tr>\n",
       "      <th>21</th>\n",
       "      <td>Dodge Challenger</td>\n",
       "      <td>2.76</td>\n",
       "      <td>3.520</td>\n",
       "      <td>16.87</td>\n",
       "    </tr>\n",
       "    <tr>\n",
       "      <th>22</th>\n",
       "      <td>AMC Javelin</td>\n",
       "      <td>3.15</td>\n",
       "      <td>3.435</td>\n",
       "      <td>17.30</td>\n",
       "    </tr>\n",
       "    <tr>\n",
       "      <th>23</th>\n",
       "      <td>Camaro Z28</td>\n",
       "      <td>3.73</td>\n",
       "      <td>3.840</td>\n",
       "      <td>15.41</td>\n",
       "    </tr>\n",
       "    <tr>\n",
       "      <th>24</th>\n",
       "      <td>Pontiac Firebird</td>\n",
       "      <td>3.08</td>\n",
       "      <td>3.845</td>\n",
       "      <td>17.05</td>\n",
       "    </tr>\n",
       "    <tr>\n",
       "      <th>25</th>\n",
       "      <td>Fiat X1-9</td>\n",
       "      <td>4.08</td>\n",
       "      <td>1.935</td>\n",
       "      <td>18.90</td>\n",
       "    </tr>\n",
       "    <tr>\n",
       "      <th>26</th>\n",
       "      <td>Porsche 914-2</td>\n",
       "      <td>4.43</td>\n",
       "      <td>2.140</td>\n",
       "      <td>16.70</td>\n",
       "    </tr>\n",
       "    <tr>\n",
       "      <th>27</th>\n",
       "      <td>Lotus Europa</td>\n",
       "      <td>3.77</td>\n",
       "      <td>1.513</td>\n",
       "      <td>16.90</td>\n",
       "    </tr>\n",
       "    <tr>\n",
       "      <th>28</th>\n",
       "      <td>Ford Pantera L</td>\n",
       "      <td>4.22</td>\n",
       "      <td>3.170</td>\n",
       "      <td>14.50</td>\n",
       "    </tr>\n",
       "    <tr>\n",
       "      <th>29</th>\n",
       "      <td>Ferrari Dino</td>\n",
       "      <td>3.62</td>\n",
       "      <td>2.770</td>\n",
       "      <td>15.50</td>\n",
       "    </tr>\n",
       "    <tr>\n",
       "      <th>30</th>\n",
       "      <td>Maserati Bora</td>\n",
       "      <td>3.54</td>\n",
       "      <td>3.570</td>\n",
       "      <td>14.60</td>\n",
       "    </tr>\n",
       "    <tr>\n",
       "      <th>31</th>\n",
       "      <td>Volvo 142E</td>\n",
       "      <td>4.11</td>\n",
       "      <td>2.780</td>\n",
       "      <td>18.60</td>\n",
       "    </tr>\n",
       "  </tbody>\n",
       "</table>\n",
       "</div>"
      ],
      "text/plain": [
       "             Unnamed: 0  Points  Score  Weigh\n",
       "0             Mazda RX4    3.90  2.620  16.46\n",
       "1         Mazda RX4 Wag    3.90  2.875  17.02\n",
       "2            Datsun 710    3.85  2.320  18.61\n",
       "3        Hornet 4 Drive    3.08  3.215  19.44\n",
       "4     Hornet Sportabout    3.15  3.440  17.02\n",
       "5               Valiant    2.76  3.460  20.22\n",
       "6            Duster 360    3.21  3.570  15.84\n",
       "7             Merc 240D    3.69  3.190  20.00\n",
       "8              Merc 230    3.92  3.150  22.90\n",
       "9              Merc 280    3.92  3.440  18.30\n",
       "10            Merc 280C    3.92  3.440  18.90\n",
       "11           Merc 450SE    3.07  4.070  17.40\n",
       "12           Merc 450SL    3.07  3.730  17.60\n",
       "13          Merc 450SLC    3.07  3.780  18.00\n",
       "14   Cadillac Fleetwood    2.93  5.250  17.98\n",
       "15  Lincoln Continental    3.00  5.424  17.82\n",
       "16    Chrysler Imperial    3.23  5.345  17.42\n",
       "17             Fiat 128    4.08  2.200  19.47\n",
       "18          Honda Civic    4.93  1.615  18.52\n",
       "19       Toyota Corolla    4.22  1.835  19.90\n",
       "20        Toyota Corona    3.70  2.465  20.01\n",
       "21     Dodge Challenger    2.76  3.520  16.87\n",
       "22          AMC Javelin    3.15  3.435  17.30\n",
       "23           Camaro Z28    3.73  3.840  15.41\n",
       "24     Pontiac Firebird    3.08  3.845  17.05\n",
       "25            Fiat X1-9    4.08  1.935  18.90\n",
       "26        Porsche 914-2    4.43  2.140  16.70\n",
       "27         Lotus Europa    3.77  1.513  16.90\n",
       "28       Ford Pantera L    4.22  3.170  14.50\n",
       "29         Ferrari Dino    3.62  2.770  15.50\n",
       "30        Maserati Bora    3.54  3.570  14.60\n",
       "31           Volvo 142E    4.11  2.780  18.60"
      ]
     },
     "execution_count": 4,
     "metadata": {},
     "output_type": "execute_result"
    }
   ],
   "source": [
    "df"
   ]
  },
  {
   "cell_type": "code",
   "execution_count": 5,
   "id": "cbd9f194",
   "metadata": {
    "ExecuteTime": {
     "end_time": "2023-02-18T10:20:04.956863Z",
     "start_time": "2023-02-18T10:20:04.917901Z"
    }
   },
   "outputs": [
    {
     "name": "stdout",
     "output_type": "stream",
     "text": [
      "points count    32.000000\n",
      "mean      3.596563\n",
      "std       0.534679\n",
      "min       2.760000\n",
      "25%       3.080000\n",
      "50%       3.695000\n",
      "75%       3.920000\n",
      "max       4.930000\n",
      "Name: Points, dtype: float64\n",
      "Score count    32.000000\n",
      "mean      3.217250\n",
      "std       0.978457\n",
      "min       1.513000\n",
      "25%       2.581250\n",
      "50%       3.325000\n",
      "75%       3.610000\n",
      "max       5.424000\n",
      "Name: Score, dtype: float64\n",
      "Weigh count    32.000000\n",
      "mean     17.848750\n",
      "std       1.786943\n",
      "min      14.500000\n",
      "25%      16.892500\n",
      "50%      17.710000\n",
      "75%      18.900000\n",
      "max      22.900000\n",
      "Name: Weigh, dtype: float64\n"
     ]
    }
   ],
   "source": [
    "print(\"points\",df.Points.describe())\n",
    "print(\"Score\",df.Score.describe())\n",
    "print(\"Weigh\",df.Weigh.describe())"
   ]
  },
  {
   "cell_type": "code",
   "execution_count": 6,
   "id": "15855465",
   "metadata": {
    "ExecuteTime": {
     "end_time": "2023-02-18T10:20:25.628959Z",
     "start_time": "2023-02-18T10:20:25.621340Z"
    }
   },
   "outputs": [
    {
     "name": "stdout",
     "output_type": "stream",
     "text": [
      "The mean of the points : 3.5966\n",
      "The mean of the score : 3.2172\n",
      "The mean of the Weigh : 17.8488\n"
     ]
    }
   ],
   "source": [
    "print(\"The mean of the points :\",round(df['Points'].mean(),4))\n",
    "print(\"The mean of the score :\",round(df['Score'].mean(),4))\n",
    "print(\"The mean of the Weigh :\",round(df['Weigh'].mean(),4))\n"
   ]
  },
  {
   "cell_type": "code",
   "execution_count": 7,
   "id": "06e9ed71",
   "metadata": {
    "ExecuteTime": {
     "end_time": "2023-02-18T10:20:39.907742Z",
     "start_time": "2023-02-18T10:20:39.893201Z"
    }
   },
   "outputs": [
    {
     "name": "stdout",
     "output_type": "stream",
     "text": [
      "The median of the points : 3.695\n",
      "The median of the score : 3.325\n",
      "The median of the Weigh : 17.71\n"
     ]
    }
   ],
   "source": [
    "print(\"The median of the points :\",round(df['Points'].median(),4))\n",
    "print(\"The median of the score :\",round(df['Score'].median(),4))\n",
    "print(\"The median of the Weigh :\",round(df['Weigh'].median(),4))"
   ]
  },
  {
   "cell_type": "code",
   "execution_count": 8,
   "id": "8e35e3c1",
   "metadata": {
    "ExecuteTime": {
     "end_time": "2023-02-18T10:20:52.203322Z",
     "start_time": "2023-02-18T10:20:52.178956Z"
    }
   },
   "outputs": [
    {
     "name": "stdout",
     "output_type": "stream",
     "text": [
      "The mode of the points : 0    3.07\n",
      "1    3.92\n",
      "Name: Points, dtype: float64\n",
      "The mode of the score : 0    3.44\n",
      "Name: Score, dtype: float64\n",
      "The mode of the Weigh : 0    17.02\n",
      "1    18.90\n",
      "Name: Weigh, dtype: float64\n"
     ]
    }
   ],
   "source": [
    "print(\"The mode of the points :\",round(df['Points'].mode(),4))\n",
    "print(\"The mode of the score :\",round(df['Score'].mode(),4))\n",
    "print(\"The mode of the Weigh :\",round(df['Weigh'].mode(),4))"
   ]
  },
  {
   "cell_type": "code",
   "execution_count": 9,
   "id": "68fbb773",
   "metadata": {
    "ExecuteTime": {
     "end_time": "2023-02-18T10:25:42.812933Z",
     "start_time": "2023-02-18T10:25:42.788689Z"
    }
   },
   "outputs": [
    {
     "name": "stdout",
     "output_type": "stream",
     "text": [
      "The variance of the points : 0.2859\n",
      "The variance of the score : 0.9574\n",
      "The variance of the Weigh : 3.1932\n"
     ]
    }
   ],
   "source": [
    "print(\"The variance of the points :\",round(df['Points'].var(),4))\n",
    "print(\"The variance of the score :\",round(df['Score'].var(),4))\n",
    "print(\"The variance of the Weigh :\",round(df['Weigh'].var(),4))"
   ]
  },
  {
   "cell_type": "code",
   "execution_count": 10,
   "id": "e91fa908",
   "metadata": {
    "ExecuteTime": {
     "end_time": "2023-02-18T10:26:02.716105Z",
     "start_time": "2023-02-18T10:26:02.700745Z"
    }
   },
   "outputs": [
    {
     "name": "stdout",
     "output_type": "stream",
     "text": [
      "The Range of the points : 2.17\n",
      "The Range  of the score : 3.911\n",
      "The Range  of the Weigh : 8.4\n"
     ]
    }
   ],
   "source": [
    "print(\"The Range of the points :\",round((df['Points'].max()-df['Points'].min()),4))\n",
    "print(\"The Range  of the score :\",round((df['Score'].max()-df['Score'].min()),4))\n",
    "print(\"The Range  of the Weigh :\",round((df['Weigh'].max()-df['Weigh'].min()),4))"
   ]
  },
  {
   "cell_type": "code",
   "execution_count": 11,
   "id": "af372f5d",
   "metadata": {
    "ExecuteTime": {
     "end_time": "2023-02-18T10:26:26.686175Z",
     "start_time": "2023-02-18T10:26:26.523746Z"
    }
   },
   "outputs": [
    {
     "data": {
      "image/png": "[encoded data removed]",
      "text/plain": [
       "<Figure size 640x480 with 1 Axes>"
      ]
     },
     "metadata": {},
     "output_type": "display_data"
    }
   ],
   "source": [
    "mpl.figure()\n",
    "sns.boxplot(df.Weigh)\n",
    "mpl.title(\"Score\")\n",
    "mpl.show()\n"
   ]
  },
  {
   "cell_type": "markdown",
   "id": "eff48a95",
   "metadata": {},
   "source": [
    "# Q9(a)"
   ]
  },
  {
   "cell_type": "code",
   "execution_count": 12,
   "id": "8eabb1b9",
   "metadata": {
    "ExecuteTime": {
     "end_time": "2023-02-18T10:29:55.853734Z",
     "start_time": "2023-02-18T10:29:55.822496Z"
    }
   },
   "outputs": [],
   "source": [
    "qw=pd.read_csv(\"D:\\Assignments\\Basic statistics level 1\\Q9_a.csv\")"
   ]
  },
  {
   "cell_type": "code",
   "execution_count": 13,
   "id": "d13e0d36",
   "metadata": {
    "ExecuteTime": {
     "end_time": "2023-02-18T10:29:59.798814Z",
     "start_time": "2023-02-18T10:29:59.774105Z"
    }
   },
   "outputs": [
    {
     "data": {
      "text/html": [
       "<div>\n",
       "<style scoped>\n",
       "    .dataframe tbody tr th:only-of-type {\n",
       "        vertical-align: middle;\n",
       "    }\n",
       "\n",
       "    .dataframe tbody tr th {\n",
       "        vertical-align: top;\n",
       "    }\n",
       "\n",
       "    .dataframe thead th {\n",
       "        text-align: right;\n",
       "    }\n",
       "</style>\n",
       "<table border=\"1\" class=\"dataframe\">\n",
       "  <thead>\n",
       "    <tr style=\"text-align: right;\">\n",
       "      <th></th>\n",
       "      <th>Index</th>\n",
       "      <th>speed</th>\n",
       "      <th>dist</th>\n",
       "    </tr>\n",
       "  </thead>\n",
       "  <tbody>\n",
       "    <tr>\n",
       "      <th>0</th>\n",
       "      <td>1</td>\n",
       "      <td>4</td>\n",
       "      <td>2</td>\n",
       "    </tr>\n",
       "    <tr>\n",
       "      <th>1</th>\n",
       "      <td>2</td>\n",
       "      <td>4</td>\n",
       "      <td>10</td>\n",
       "    </tr>\n",
       "    <tr>\n",
       "      <th>2</th>\n",
       "      <td>3</td>\n",
       "      <td>7</td>\n",
       "      <td>4</td>\n",
       "    </tr>\n",
       "    <tr>\n",
       "      <th>3</th>\n",
       "      <td>4</td>\n",
       "      <td>7</td>\n",
       "      <td>22</td>\n",
       "    </tr>\n",
       "    <tr>\n",
       "      <th>4</th>\n",
       "      <td>5</td>\n",
       "      <td>8</td>\n",
       "      <td>16</td>\n",
       "    </tr>\n",
       "    <tr>\n",
       "      <th>5</th>\n",
       "      <td>6</td>\n",
       "      <td>9</td>\n",
       "      <td>10</td>\n",
       "    </tr>\n",
       "    <tr>\n",
       "      <th>6</th>\n",
       "      <td>7</td>\n",
       "      <td>10</td>\n",
       "      <td>18</td>\n",
       "    </tr>\n",
       "    <tr>\n",
       "      <th>7</th>\n",
       "      <td>8</td>\n",
       "      <td>10</td>\n",
       "      <td>26</td>\n",
       "    </tr>\n",
       "    <tr>\n",
       "      <th>8</th>\n",
       "      <td>9</td>\n",
       "      <td>10</td>\n",
       "      <td>34</td>\n",
       "    </tr>\n",
       "    <tr>\n",
       "      <th>9</th>\n",
       "      <td>10</td>\n",
       "      <td>11</td>\n",
       "      <td>17</td>\n",
       "    </tr>\n",
       "    <tr>\n",
       "      <th>10</th>\n",
       "      <td>11</td>\n",
       "      <td>11</td>\n",
       "      <td>28</td>\n",
       "    </tr>\n",
       "    <tr>\n",
       "      <th>11</th>\n",
       "      <td>12</td>\n",
       "      <td>12</td>\n",
       "      <td>14</td>\n",
       "    </tr>\n",
       "    <tr>\n",
       "      <th>12</th>\n",
       "      <td>13</td>\n",
       "      <td>12</td>\n",
       "      <td>20</td>\n",
       "    </tr>\n",
       "    <tr>\n",
       "      <th>13</th>\n",
       "      <td>14</td>\n",
       "      <td>12</td>\n",
       "      <td>24</td>\n",
       "    </tr>\n",
       "    <tr>\n",
       "      <th>14</th>\n",
       "      <td>15</td>\n",
       "      <td>12</td>\n",
       "      <td>28</td>\n",
       "    </tr>\n",
       "    <tr>\n",
       "      <th>15</th>\n",
       "      <td>16</td>\n",
       "      <td>13</td>\n",
       "      <td>26</td>\n",
       "    </tr>\n",
       "    <tr>\n",
       "      <th>16</th>\n",
       "      <td>17</td>\n",
       "      <td>13</td>\n",
       "      <td>34</td>\n",
       "    </tr>\n",
       "    <tr>\n",
       "      <th>17</th>\n",
       "      <td>18</td>\n",
       "      <td>13</td>\n",
       "      <td>34</td>\n",
       "    </tr>\n",
       "    <tr>\n",
       "      <th>18</th>\n",
       "      <td>19</td>\n",
       "      <td>13</td>\n",
       "      <td>46</td>\n",
       "    </tr>\n",
       "    <tr>\n",
       "      <th>19</th>\n",
       "      <td>20</td>\n",
       "      <td>14</td>\n",
       "      <td>26</td>\n",
       "    </tr>\n",
       "    <tr>\n",
       "      <th>20</th>\n",
       "      <td>21</td>\n",
       "      <td>14</td>\n",
       "      <td>36</td>\n",
       "    </tr>\n",
       "    <tr>\n",
       "      <th>21</th>\n",
       "      <td>22</td>\n",
       "      <td>14</td>\n",
       "      <td>60</td>\n",
       "    </tr>\n",
       "    <tr>\n",
       "      <th>22</th>\n",
       "      <td>23</td>\n",
       "      <td>14</td>\n",
       "      <td>80</td>\n",
       "    </tr>\n",
       "    <tr>\n",
       "      <th>23</th>\n",
       "      <td>24</td>\n",
       "      <td>15</td>\n",
       "      <td>20</td>\n",
       "    </tr>\n",
       "    <tr>\n",
       "      <th>24</th>\n",
       "      <td>25</td>\n",
       "      <td>15</td>\n",
       "      <td>26</td>\n",
       "    </tr>\n",
       "    <tr>\n",
       "      <th>25</th>\n",
       "      <td>26</td>\n",
       "      <td>15</td>\n",
       "      <td>54</td>\n",
       "    </tr>\n",
       "    <tr>\n",
       "      <th>26</th>\n",
       "      <td>27</td>\n",
       "      <td>16</td>\n",
       "      <td>32</td>\n",
       "    </tr>\n",
       "    <tr>\n",
       "      <th>27</th>\n",
       "      <td>28</td>\n",
       "      <td>16</td>\n",
       "      <td>40</td>\n",
       "    </tr>\n",
       "    <tr>\n",
       "      <th>28</th>\n",
       "      <td>29</td>\n",
       "      <td>17</td>\n",
       "      <td>32</td>\n",
       "    </tr>\n",
       "    <tr>\n",
       "      <th>29</th>\n",
       "      <td>30</td>\n",
       "      <td>17</td>\n",
       "      <td>40</td>\n",
       "    </tr>\n",
       "    <tr>\n",
       "      <th>30</th>\n",
       "      <td>31</td>\n",
       "      <td>17</td>\n",
       "      <td>50</td>\n",
       "    </tr>\n",
       "    <tr>\n",
       "      <th>31</th>\n",
       "      <td>32</td>\n",
       "      <td>18</td>\n",
       "      <td>42</td>\n",
       "    </tr>\n",
       "    <tr>\n",
       "      <th>32</th>\n",
       "      <td>33</td>\n",
       "      <td>18</td>\n",
       "      <td>56</td>\n",
       "    </tr>\n",
       "    <tr>\n",
       "      <th>33</th>\n",
       "      <td>34</td>\n",
       "      <td>18</td>\n",
       "      <td>76</td>\n",
       "    </tr>\n",
       "    <tr>\n",
       "      <th>34</th>\n",
       "      <td>35</td>\n",
       "      <td>18</td>\n",
       "      <td>84</td>\n",
       "    </tr>\n",
       "    <tr>\n",
       "      <th>35</th>\n",
       "      <td>36</td>\n",
       "      <td>19</td>\n",
       "      <td>36</td>\n",
       "    </tr>\n",
       "    <tr>\n",
       "      <th>36</th>\n",
       "      <td>37</td>\n",
       "      <td>19</td>\n",
       "      <td>46</td>\n",
       "    </tr>\n",
       "    <tr>\n",
       "      <th>37</th>\n",
       "      <td>38</td>\n",
       "      <td>19</td>\n",
       "      <td>68</td>\n",
       "    </tr>\n",
       "    <tr>\n",
       "      <th>38</th>\n",
       "      <td>39</td>\n",
       "      <td>20</td>\n",
       "      <td>32</td>\n",
       "    </tr>\n",
       "    <tr>\n",
       "      <th>39</th>\n",
       "      <td>40</td>\n",
       "      <td>20</td>\n",
       "      <td>48</td>\n",
       "    </tr>\n",
       "    <tr>\n",
       "      <th>40</th>\n",
       "      <td>41</td>\n",
       "      <td>20</td>\n",
       "      <td>52</td>\n",
       "    </tr>\n",
       "    <tr>\n",
       "      <th>41</th>\n",
       "      <td>42</td>\n",
       "      <td>20</td>\n",
       "      <td>56</td>\n",
       "    </tr>\n",
       "    <tr>\n",
       "      <th>42</th>\n",
       "      <td>43</td>\n",
       "      <td>20</td>\n",
       "      <td>64</td>\n",
       "    </tr>\n",
       "    <tr>\n",
       "      <th>43</th>\n",
       "      <td>44</td>\n",
       "      <td>22</td>\n",
       "      <td>66</td>\n",
       "    </tr>\n",
       "    <tr>\n",
       "      <th>44</th>\n",
       "      <td>45</td>\n",
       "      <td>23</td>\n",
       "      <td>54</td>\n",
       "    </tr>\n",
       "    <tr>\n",
       "      <th>45</th>\n",
       "      <td>46</td>\n",
       "      <td>24</td>\n",
       "      <td>70</td>\n",
       "    </tr>\n",
       "    <tr>\n",
       "      <th>46</th>\n",
       "      <td>47</td>\n",
       "      <td>24</td>\n",
       "      <td>92</td>\n",
       "    </tr>\n",
       "    <tr>\n",
       "      <th>47</th>\n",
       "      <td>48</td>\n",
       "      <td>24</td>\n",
       "      <td>93</td>\n",
       "    </tr>\n",
       "    <tr>\n",
       "      <th>48</th>\n",
       "      <td>49</td>\n",
       "      <td>24</td>\n",
       "      <td>120</td>\n",
       "    </tr>\n",
       "    <tr>\n",
       "      <th>49</th>\n",
       "      <td>50</td>\n",
       "      <td>25</td>\n",
       "      <td>85</td>\n",
       "    </tr>\n",
       "  </tbody>\n",
       "</table>\n",
       "</div>"
      ],
      "text/plain": [
       "    Index  speed  dist\n",
       "0       1      4     2\n",
       "1       2      4    10\n",
       "2       3      7     4\n",
       "3       4      7    22\n",
       "4       5      8    16\n",
       "5       6      9    10\n",
       "6       7     10    18\n",
       "7       8     10    26\n",
       "8       9     10    34\n",
       "9      10     11    17\n",
       "10     11     11    28\n",
       "11     12     12    14\n",
       "12     13     12    20\n",
       "13     14     12    24\n",
       "14     15     12    28\n",
       "15     16     13    26\n",
       "16     17     13    34\n",
       "17     18     13    34\n",
       "18     19     13    46\n",
       "19     20     14    26\n",
       "20     21     14    36\n",
       "21     22     14    60\n",
       "22     23     14    80\n",
       "23     24     15    20\n",
       "24     25     15    26\n",
       "25     26     15    54\n",
       "26     27     16    32\n",
       "27     28     16    40\n",
       "28     29     17    32\n",
       "29     30     17    40\n",
       "30     31     17    50\n",
       "31     32     18    42\n",
       "32     33     18    56\n",
       "33     34     18    76\n",
       "34     35     18    84\n",
       "35     36     19    36\n",
       "36     37     19    46\n",
       "37     38     19    68\n",
       "38     39     20    32\n",
       "39     40     20    48\n",
       "40     41     20    52\n",
       "41     42     20    56\n",
       "42     43     20    64\n",
       "43     44     22    66\n",
       "44     45     23    54\n",
       "45     46     24    70\n",
       "46     47     24    92\n",
       "47     48     24    93\n",
       "48     49     24   120\n",
       "49     50     25    85"
      ]
     },
     "execution_count": 13,
     "metadata": {},
     "output_type": "execute_result"
    }
   ],
   "source": [
    "qw"
   ]
  },
  {
   "cell_type": "code",
   "execution_count": 14,
   "id": "46c78e90",
   "metadata": {
    "ExecuteTime": {
     "end_time": "2023-02-18T10:30:20.815994Z",
     "start_time": "2023-02-18T10:30:20.679172Z"
    }
   },
   "outputs": [
    {
     "name": "stdout",
     "output_type": "stream",
     "text": [
      "Skewness of speed : -0.1175\n",
      "Kurtosis of speed : -0.5771\n"
     ]
    },
    {
     "data": {
      "image/png": "[encoded data removed]",
      "text/plain": [
       "<Figure size 640x480 with 1 Axes>"
      ]
     },
     "metadata": {},
     "output_type": "display_data"
    }
   ],
   "source": [
    "##For speed\n",
    "print(\"Skewness of speed :\",round(sp.stats.skew(qw.speed,axis=0,bias=False),4))\n",
    "print(\"Kurtosis of speed :\",round(sp.stats.kurtosis (qw.speed, axis=0, fisher=True, bias=True),4))\n",
    "## plot\n",
    "mpl.figure()\n",
    "sns.distplot(qw.speed)\n",
    "mpl.show()"
   ]
  },
  {
   "cell_type": "code",
   "execution_count": 15,
   "id": "e1549be0",
   "metadata": {
    "ExecuteTime": {
     "end_time": "2023-02-18T10:30:34.776278Z",
     "start_time": "2023-02-18T10:30:34.657564Z"
    }
   },
   "outputs": [
    {
     "name": "stdout",
     "output_type": "stream",
     "text": [
      "Skewness of Distance : 0.8069\n",
      "Kurtosis of Distance : 0.248\n"
     ]
    },
    {
     "data": {
      "image/png": "[encoded data removed]",
      "text/plain": [
       "<Figure size 640x480 with 1 Axes>"
      ]
     },
     "metadata": {},
     "output_type": "display_data"
    }
   ],
   "source": [
    "## for distance\n",
    "print(\"Skewness of Distance :\",round(sp.stats.skew(qw.dist,axis=0,bias=False),4))\n",
    "print(\"Kurtosis of Distance :\",round(sp.stats.kurtosis (qw.dist, axis=0, fisher=True, bias=True),4))\n",
    "## plot\n",
    "mpl.figure()\n",
    "sns.distplot(qw.dist)\n",
    "mpl.show()"
   ]
  },
  {
   "cell_type": "markdown",
   "id": "c61f7206",
   "metadata": {},
   "source": [
    "# Q-09_b"
   ]
  },
  {
   "cell_type": "code",
   "execution_count": 18,
   "id": "1920ccde",
   "metadata": {
    "ExecuteTime": {
     "end_time": "2023-02-18T10:33:30.022230Z",
     "start_time": "2023-02-18T10:33:30.004996Z"
    }
   },
   "outputs": [],
   "source": [
    "##SP and Weight(WT)\n",
    "wt=pd.read_csv(\"D:\\Gurumurthy Assignments\\Basic statistics level 1\\Q9_b.csv\")"
   ]
  },
  {
   "cell_type": "code",
   "execution_count": 19,
   "id": "e82b643f",
   "metadata": {
    "ExecuteTime": {
     "end_time": "2023-02-18T10:33:31.695326Z",
     "start_time": "2023-02-18T10:33:31.669972Z"
    }
   },
   "outputs": [
    {
     "data": {
      "text/html": [
       "<div>\n",
       "<style scoped>\n",
       "    .dataframe tbody tr th:only-of-type {\n",
       "        vertical-align: middle;\n",
       "    }\n",
       "\n",
       "    .dataframe tbody tr th {\n",
       "        vertical-align: top;\n",
       "    }\n",
       "\n",
       "    .dataframe thead th {\n",
       "        text-align: right;\n",
       "    }\n",
       "</style>\n",
       "<table border=\"1\" class=\"dataframe\">\n",
       "  <thead>\n",
       "    <tr style=\"text-align: right;\">\n",
       "      <th></th>\n",
       "      <th>Unnamed: 0</th>\n",
       "      <th>SP</th>\n",
       "      <th>WT</th>\n",
       "    </tr>\n",
       "  </thead>\n",
       "  <tbody>\n",
       "    <tr>\n",
       "      <th>0</th>\n",
       "      <td>1</td>\n",
       "      <td>104.185353</td>\n",
       "      <td>28.762059</td>\n",
       "    </tr>\n",
       "    <tr>\n",
       "      <th>1</th>\n",
       "      <td>2</td>\n",
       "      <td>105.461264</td>\n",
       "      <td>30.466833</td>\n",
       "    </tr>\n",
       "    <tr>\n",
       "      <th>2</th>\n",
       "      <td>3</td>\n",
       "      <td>105.461264</td>\n",
       "      <td>30.193597</td>\n",
       "    </tr>\n",
       "    <tr>\n",
       "      <th>3</th>\n",
       "      <td>4</td>\n",
       "      <td>113.461264</td>\n",
       "      <td>30.632114</td>\n",
       "    </tr>\n",
       "    <tr>\n",
       "      <th>4</th>\n",
       "      <td>5</td>\n",
       "      <td>104.461264</td>\n",
       "      <td>29.889149</td>\n",
       "    </tr>\n",
       "    <tr>\n",
       "      <th>...</th>\n",
       "      <td>...</td>\n",
       "      <td>...</td>\n",
       "      <td>...</td>\n",
       "    </tr>\n",
       "    <tr>\n",
       "      <th>76</th>\n",
       "      <td>77</td>\n",
       "      <td>169.598513</td>\n",
       "      <td>16.132947</td>\n",
       "    </tr>\n",
       "    <tr>\n",
       "      <th>77</th>\n",
       "      <td>78</td>\n",
       "      <td>150.576579</td>\n",
       "      <td>37.923113</td>\n",
       "    </tr>\n",
       "    <tr>\n",
       "      <th>78</th>\n",
       "      <td>79</td>\n",
       "      <td>151.598513</td>\n",
       "      <td>15.769625</td>\n",
       "    </tr>\n",
       "    <tr>\n",
       "      <th>79</th>\n",
       "      <td>80</td>\n",
       "      <td>167.944460</td>\n",
       "      <td>39.423099</td>\n",
       "    </tr>\n",
       "    <tr>\n",
       "      <th>80</th>\n",
       "      <td>81</td>\n",
       "      <td>139.840817</td>\n",
       "      <td>34.948615</td>\n",
       "    </tr>\n",
       "  </tbody>\n",
       "</table>\n",
       "<p>81 rows × 3 columns</p>\n",
       "</div>"
      ],
      "text/plain": [
       "    Unnamed: 0          SP         WT\n",
       "0            1  104.185353  28.762059\n",
       "1            2  105.461264  30.466833\n",
       "2            3  105.461264  30.193597\n",
       "3            4  113.461264  30.632114\n",
       "4            5  104.461264  29.889149\n",
       "..         ...         ...        ...\n",
       "76          77  169.598513  16.132947\n",
       "77          78  150.576579  37.923113\n",
       "78          79  151.598513  15.769625\n",
       "79          80  167.944460  39.423099\n",
       "80          81  139.840817  34.948615\n",
       "\n",
       "[81 rows x 3 columns]"
      ]
     },
     "execution_count": 19,
     "metadata": {},
     "output_type": "execute_result"
    }
   ],
   "source": [
    "wt"
   ]
  },
  {
   "cell_type": "code",
   "execution_count": 20,
   "id": "5bb45342",
   "metadata": {
    "ExecuteTime": {
     "end_time": "2023-02-18T10:34:32.484068Z",
     "start_time": "2023-02-18T10:34:32.124787Z"
    }
   },
   "outputs": [
    {
     "name": "stdout",
     "output_type": "stream",
     "text": [
      "Skewness of SP : 1.6115\n",
      "Kurtosis of SP : 2.7235\n"
     ]
    },
    {
     "data": {
      "image/png": "[encoded data removed]",
      "text/plain": [
       "<Figure size 640x480 with 1 Axes>"
      ]
     },
     "metadata": {},
     "output_type": "display_data"
    },
    {
     "data": {
      "image/png": "[encoded data removed]",
      "text/plain": [
       "<Figure size 640x480 with 1 Axes>"
      ]
     },
     "metadata": {},
     "output_type": "display_data"
    }
   ],
   "source": [
    "##For SP\n",
    "print(\"Skewness of SP :\",round(sp.stats.skew(wt.SP,axis=0,bias=False),4))\n",
    "print(\"Kurtosis of SP :\",round(sp.stats.kurtosis (wt.SP, axis=0, fisher=True, bias=True),4))\n",
    "## plot\n",
    "mpl.figure()\n",
    "sns.distplot(wt.SP)\n",
    "mpl.show()\n",
    "mpl.figure()\n",
    "sns.boxplot(wt.SP)\n",
    "mpl.show()"
   ]
  },
  {
   "cell_type": "code",
   "execution_count": 21,
   "id": "f93f1d48",
   "metadata": {
    "ExecuteTime": {
     "end_time": "2023-02-18T10:34:46.233440Z",
     "start_time": "2023-02-18T10:34:45.883197Z"
    }
   },
   "outputs": [
    {
     "name": "stdout",
     "output_type": "stream",
     "text": [
      "Skewness of WT : -0.6148\n",
      "Kurtosis of WT : 0.8195\n"
     ]
    },
    {
     "data": {
      "image/png": "[encoded data removed]",
      "text/plain": [
       "<Figure size 640x480 with 1 Axes>"
      ]
     },
     "metadata": {},
     "output_type": "display_data"
    },
    {
     "data": {
      "image/png": "[encoded data removed]",
      "text/plain": [
       "<Figure size 640x480 with 1 Axes>"
      ]
     },
     "metadata": {},
     "output_type": "display_data"
    }
   ],
   "source": [
    "##For WT\n",
    "print(\"Skewness of WT :\",round(sp.stats.skew(wt.WT,axis=0,bias=False),4))\n",
    "print(\"Kurtosis of WT :\",round(sp.stats.kurtosis (wt.WT, axis=0, fisher=True, bias=True),4))\n",
    "\n",
    "## plot\n",
    "mpl.figure()\n",
    "sns.distplot(wt.WT)\n",
    "mpl.show()\n",
    "mpl.figure()\n",
    "sns.boxplot(wt.WT)\n",
    "mpl.show()"
   ]
  },
  {
   "cell_type": "markdown",
   "id": "263cad6d",
   "metadata": {},
   "source": [
    "# Q-11"
   ]
  },
  {
   "cell_type": "code",
   "execution_count": 23,
   "id": "86da51d9",
   "metadata": {
    "ExecuteTime": {
     "end_time": "2023-02-18T10:36:21.926091Z",
     "start_time": "2023-02-18T10:36:21.917785Z"
    }
   },
   "outputs": [],
   "source": [
    "from scipy import stats"
   ]
  },
  {
   "cell_type": "code",
   "execution_count": 24,
   "id": "d9db44c6",
   "metadata": {
    "ExecuteTime": {
     "end_time": "2023-02-18T10:36:34.757062Z",
     "start_time": "2023-02-18T10:36:34.720360Z"
    }
   },
   "outputs": [
    {
     "name": "stdout",
     "output_type": "stream",
     "text": [
      "Average Weight When CI is 94 %: (198.738325292158, 201.261674707842)\n",
      "Average Weight When CI is 98 %: (198.43943840429978, 201.56056159570022)\n",
      "Average Weight When CI is 96 %: (198.62230334813333, 201.37769665186667)\n"
     ]
    }
   ],
   "source": [
    "   ##the average weight of an adult male in Mexico @94% CI\n",
    "print(\"Average Weight When CI is 94 %:\",stats.norm.interval(0.94,200,30/(2000**0.5)))\n",
    "      ##the average weight of an adult male in Mexico @98% CI\n",
    "print(\"Average Weight When CI is 98 %:\",stats.norm.interval(0.98,200,30/(2000**0.5)))\n",
    "      ##the average weight of an adult male in Mexico @96% CI\n",
    "print(\"Average Weight When CI is 96 %:\",stats.norm.interval(0.96,200,30/(2000**0.5)))"
   ]
  },
  {
   "cell_type": "markdown",
   "id": "16f073e5",
   "metadata": {},
   "source": [
    "# Q-12"
   ]
  },
  {
   "cell_type": "code",
   "execution_count": 25,
   "id": "0bb88348",
   "metadata": {
    "ExecuteTime": {
     "end_time": "2023-02-18T10:37:29.533120Z",
     "start_time": "2023-02-18T10:37:29.517969Z"
    }
   },
   "outputs": [],
   "source": [
    "import pandas as pd\n",
    "marks=pd.Series([34,36,36,38,38,39,39,40,40,41,41,41,41,42,42,45,49,56])"
   ]
  },
  {
   "cell_type": "code",
   "execution_count": 26,
   "id": "1b4e264b",
   "metadata": {
    "ExecuteTime": {
     "end_time": "2023-02-18T10:37:44.524081Z",
     "start_time": "2023-02-18T10:37:44.507496Z"
    }
   },
   "outputs": [
    {
     "name": "stdout",
     "output_type": "stream",
     "text": [
      "The Mean is : 41.0\n",
      "The Median is : 40.5\n",
      "the Variance is : 25.529411764705884\n",
      "The Standard deviation is : 5.05266382858645\n"
     ]
    }
   ],
   "source": [
    "print(\"The Mean is :\",marks.mean())\n",
    "print(\"The Median is :\",marks.median())\n",
    "print(\"the Variance is :\", marks.var())\n",
    "print(\"The Standard deviation is :\",marks.std())"
   ]
  },
  {
   "cell_type": "code",
   "execution_count": 27,
   "id": "5f93be9d",
   "metadata": {
    "ExecuteTime": {
     "end_time": "2023-02-18T10:37:55.443699Z",
     "start_time": "2023-02-18T10:37:55.295886Z"
    }
   },
   "outputs": [
    {
     "data": {
      "image/png": "[encoded data removed]",
      "text/plain": [
       "<Figure size 640x480 with 1 Axes>"
      ]
     },
     "metadata": {},
     "output_type": "display_data"
    }
   ],
   "source": [
    "mpl.figure()\n",
    "sns.boxplot(marks)\n",
    "mpl.show()"
   ]
  },
  {
   "cell_type": "markdown",
   "id": "e542df0b",
   "metadata": {},
   "source": [
    "# Q-20"
   ]
  },
  {
   "cell_type": "code",
   "execution_count": 28,
   "id": "4984b671",
   "metadata": {
    "ExecuteTime": {
     "end_time": "2023-02-18T10:39:06.810237Z",
     "start_time": "2023-02-18T10:39:06.786013Z"
    }
   },
   "outputs": [],
   "source": [
    "cars=pd.read_csv(\"D:\\Gurumurthy Assignments\\Basic statistics level 1\\Cars.csv\")"
   ]
  },
  {
   "cell_type": "code",
   "execution_count": 29,
   "id": "19447ea2",
   "metadata": {
    "ExecuteTime": {
     "end_time": "2023-02-18T10:39:10.358886Z",
     "start_time": "2023-02-18T10:39:10.335358Z"
    }
   },
   "outputs": [
    {
     "data": {
      "text/html": [
       "<div>\n",
       "<style scoped>\n",
       "    .dataframe tbody tr th:only-of-type {\n",
       "        vertical-align: middle;\n",
       "    }\n",
       "\n",
       "    .dataframe tbody tr th {\n",
       "        vertical-align: top;\n",
       "    }\n",
       "\n",
       "    .dataframe thead th {\n",
       "        text-align: right;\n",
       "    }\n",
       "</style>\n",
       "<table border=\"1\" class=\"dataframe\">\n",
       "  <thead>\n",
       "    <tr style=\"text-align: right;\">\n",
       "      <th></th>\n",
       "      <th>HP</th>\n",
       "      <th>MPG</th>\n",
       "      <th>VOL</th>\n",
       "      <th>SP</th>\n",
       "      <th>WT</th>\n",
       "    </tr>\n",
       "  </thead>\n",
       "  <tbody>\n",
       "    <tr>\n",
       "      <th>0</th>\n",
       "      <td>49</td>\n",
       "      <td>53.700681</td>\n",
       "      <td>89</td>\n",
       "      <td>104.185353</td>\n",
       "      <td>28.762059</td>\n",
       "    </tr>\n",
       "    <tr>\n",
       "      <th>1</th>\n",
       "      <td>55</td>\n",
       "      <td>50.013401</td>\n",
       "      <td>92</td>\n",
       "      <td>105.461264</td>\n",
       "      <td>30.466833</td>\n",
       "    </tr>\n",
       "    <tr>\n",
       "      <th>2</th>\n",
       "      <td>55</td>\n",
       "      <td>50.013401</td>\n",
       "      <td>92</td>\n",
       "      <td>105.461264</td>\n",
       "      <td>30.193597</td>\n",
       "    </tr>\n",
       "    <tr>\n",
       "      <th>3</th>\n",
       "      <td>70</td>\n",
       "      <td>45.696322</td>\n",
       "      <td>92</td>\n",
       "      <td>113.461264</td>\n",
       "      <td>30.632114</td>\n",
       "    </tr>\n",
       "    <tr>\n",
       "      <th>4</th>\n",
       "      <td>53</td>\n",
       "      <td>50.504232</td>\n",
       "      <td>92</td>\n",
       "      <td>104.461264</td>\n",
       "      <td>29.889149</td>\n",
       "    </tr>\n",
       "    <tr>\n",
       "      <th>...</th>\n",
       "      <td>...</td>\n",
       "      <td>...</td>\n",
       "      <td>...</td>\n",
       "      <td>...</td>\n",
       "      <td>...</td>\n",
       "    </tr>\n",
       "    <tr>\n",
       "      <th>76</th>\n",
       "      <td>322</td>\n",
       "      <td>36.900000</td>\n",
       "      <td>50</td>\n",
       "      <td>169.598513</td>\n",
       "      <td>16.132947</td>\n",
       "    </tr>\n",
       "    <tr>\n",
       "      <th>77</th>\n",
       "      <td>238</td>\n",
       "      <td>19.197888</td>\n",
       "      <td>115</td>\n",
       "      <td>150.576579</td>\n",
       "      <td>37.923113</td>\n",
       "    </tr>\n",
       "    <tr>\n",
       "      <th>78</th>\n",
       "      <td>263</td>\n",
       "      <td>34.000000</td>\n",
       "      <td>50</td>\n",
       "      <td>151.598513</td>\n",
       "      <td>15.769625</td>\n",
       "    </tr>\n",
       "    <tr>\n",
       "      <th>79</th>\n",
       "      <td>295</td>\n",
       "      <td>19.833733</td>\n",
       "      <td>119</td>\n",
       "      <td>167.944460</td>\n",
       "      <td>39.423099</td>\n",
       "    </tr>\n",
       "    <tr>\n",
       "      <th>80</th>\n",
       "      <td>236</td>\n",
       "      <td>12.101263</td>\n",
       "      <td>107</td>\n",
       "      <td>139.840817</td>\n",
       "      <td>34.948615</td>\n",
       "    </tr>\n",
       "  </tbody>\n",
       "</table>\n",
       "<p>81 rows × 5 columns</p>\n",
       "</div>"
      ],
      "text/plain": [
       "     HP        MPG  VOL          SP         WT\n",
       "0    49  53.700681   89  104.185353  28.762059\n",
       "1    55  50.013401   92  105.461264  30.466833\n",
       "2    55  50.013401   92  105.461264  30.193597\n",
       "3    70  45.696322   92  113.461264  30.632114\n",
       "4    53  50.504232   92  104.461264  29.889149\n",
       "..  ...        ...  ...         ...        ...\n",
       "76  322  36.900000   50  169.598513  16.132947\n",
       "77  238  19.197888  115  150.576579  37.923113\n",
       "78  263  34.000000   50  151.598513  15.769625\n",
       "79  295  19.833733  119  167.944460  39.423099\n",
       "80  236  12.101263  107  139.840817  34.948615\n",
       "\n",
       "[81 rows x 5 columns]"
      ]
     },
     "execution_count": 29,
     "metadata": {},
     "output_type": "execute_result"
    }
   ],
   "source": [
    "cars"
   ]
  },
  {
   "cell_type": "code",
   "execution_count": 31,
   "id": "e5726352",
   "metadata": {
    "ExecuteTime": {
     "end_time": "2023-02-18T10:39:33.863797Z",
     "start_time": "2023-02-18T10:39:33.834799Z"
    }
   },
   "outputs": [],
   "source": [
    "from scipy import stats"
   ]
  },
  {
   "cell_type": "code",
   "execution_count": 32,
   "id": "8bd5771e",
   "metadata": {
    "ExecuteTime": {
     "end_time": "2023-02-18T10:39:45.577669Z",
     "start_time": "2023-02-18T10:39:45.555744Z"
    }
   },
   "outputs": [
    {
     "name": "stdout",
     "output_type": "stream",
     "text": [
      "The probability the MPG >38 : 0.3475939251582705\n",
      "The probability the MPG <40 : 0.7293498762151616\n",
      "The probability the MPG between 20 and 50 : 0.8988689169682046\n"
     ]
    }
   ],
   "source": [
    "## for probability of cars when MPG>38\n",
    "print(\"The probability the MPG >38 :\",1-stats.norm.cdf(38,cars.MPG.mean(),cars.MPG.std()))\n",
    "## for probability of cars when MPG<40\n",
    "print(\"The probability the MPG <40 :\",stats.norm.cdf(40,cars.MPG.mean(),cars.MPG.std()))\n",
    "## for probability of cars when MPG is between 20 and 50\n",
    "A=stats.norm.cdf(50,cars.MPG.mean(),cars.MPG.std())\n",
    "B=stats.norm.cdf(20,cars.MPG.mean(),cars.MPG.std())\n",
    "print(\"The probability the MPG between 20 and 50 :\",A-B)"
   ]
  },
  {
   "cell_type": "markdown",
   "id": "d9ea646f",
   "metadata": {},
   "source": [
    "# Q-21"
   ]
  },
  {
   "cell_type": "code",
   "execution_count": 33,
   "id": "9a63add6",
   "metadata": {
    "ExecuteTime": {
     "end_time": "2023-02-18T10:40:21.878804Z",
     "start_time": "2023-02-18T10:40:21.601148Z"
    }
   },
   "outputs": [
    {
     "name": "stdout",
     "output_type": "stream",
     "text": [
      "mean 34.4221\n",
      "median 35.1527\n"
     ]
    },
    {
     "data": {
      "image/png": "[encoded data removed]",
      "text/plain": [
       "<Figure size 640x480 with 1 Axes>"
      ]
     },
     "metadata": {},
     "output_type": "display_data"
    }
   ],
   "source": [
    "sns.distplot(cars.MPG, label='Cars by MPG')\n",
    "mpl.xlabel('MPG')\n",
    "mpl.ylabel(' Cars Density')\n",
    "mpl.legend();\n",
    "print(\"mean\",round(cars.MPG.mean(),4))\n",
    "print(\"median\",round(cars.MPG.median(),4))"
   ]
  },
  {
   "cell_type": "code",
   "execution_count": 34,
   "id": "987eacbf",
   "metadata": {
    "ExecuteTime": {
     "end_time": "2023-02-18T10:41:15.274621Z",
     "start_time": "2023-02-18T10:41:15.250571Z"
    }
   },
   "outputs": [],
   "source": [
    "wcat=pd.read_csv(\"D:\\Gurumurthy Assignments\\Basic statistics level 1\\wc-at.csv\")"
   ]
  },
  {
   "cell_type": "code",
   "execution_count": 35,
   "id": "487f24ad",
   "metadata": {
    "ExecuteTime": {
     "end_time": "2023-02-18T10:41:31.762495Z",
     "start_time": "2023-02-18T10:41:31.738483Z"
    }
   },
   "outputs": [
    {
     "data": {
      "text/html": [
       "<div>\n",
       "<style scoped>\n",
       "    .dataframe tbody tr th:only-of-type {\n",
       "        vertical-align: middle;\n",
       "    }\n",
       "\n",
       "    .dataframe tbody tr th {\n",
       "        vertical-align: top;\n",
       "    }\n",
       "\n",
       "    .dataframe thead th {\n",
       "        text-align: right;\n",
       "    }\n",
       "</style>\n",
       "<table border=\"1\" class=\"dataframe\">\n",
       "  <thead>\n",
       "    <tr style=\"text-align: right;\">\n",
       "      <th></th>\n",
       "      <th>Waist</th>\n",
       "      <th>AT</th>\n",
       "    </tr>\n",
       "  </thead>\n",
       "  <tbody>\n",
       "    <tr>\n",
       "      <th>0</th>\n",
       "      <td>74.75</td>\n",
       "      <td>25.72</td>\n",
       "    </tr>\n",
       "    <tr>\n",
       "      <th>1</th>\n",
       "      <td>72.60</td>\n",
       "      <td>25.89</td>\n",
       "    </tr>\n",
       "    <tr>\n",
       "      <th>2</th>\n",
       "      <td>81.80</td>\n",
       "      <td>42.60</td>\n",
       "    </tr>\n",
       "    <tr>\n",
       "      <th>3</th>\n",
       "      <td>83.95</td>\n",
       "      <td>42.80</td>\n",
       "    </tr>\n",
       "    <tr>\n",
       "      <th>4</th>\n",
       "      <td>74.65</td>\n",
       "      <td>29.84</td>\n",
       "    </tr>\n",
       "    <tr>\n",
       "      <th>...</th>\n",
       "      <td>...</td>\n",
       "      <td>...</td>\n",
       "    </tr>\n",
       "    <tr>\n",
       "      <th>104</th>\n",
       "      <td>100.10</td>\n",
       "      <td>124.00</td>\n",
       "    </tr>\n",
       "    <tr>\n",
       "      <th>105</th>\n",
       "      <td>93.30</td>\n",
       "      <td>62.20</td>\n",
       "    </tr>\n",
       "    <tr>\n",
       "      <th>106</th>\n",
       "      <td>101.80</td>\n",
       "      <td>133.00</td>\n",
       "    </tr>\n",
       "    <tr>\n",
       "      <th>107</th>\n",
       "      <td>107.90</td>\n",
       "      <td>208.00</td>\n",
       "    </tr>\n",
       "    <tr>\n",
       "      <th>108</th>\n",
       "      <td>108.50</td>\n",
       "      <td>208.00</td>\n",
       "    </tr>\n",
       "  </tbody>\n",
       "</table>\n",
       "<p>109 rows × 2 columns</p>\n",
       "</div>"
      ],
      "text/plain": [
       "      Waist      AT\n",
       "0     74.75   25.72\n",
       "1     72.60   25.89\n",
       "2     81.80   42.60\n",
       "3     83.95   42.80\n",
       "4     74.65   29.84\n",
       "..      ...     ...\n",
       "104  100.10  124.00\n",
       "105   93.30   62.20\n",
       "106  101.80  133.00\n",
       "107  107.90  208.00\n",
       "108  108.50  208.00\n",
       "\n",
       "[109 rows x 2 columns]"
      ]
     },
     "execution_count": 35,
     "metadata": {},
     "output_type": "execute_result"
    }
   ],
   "source": [
    "wcat"
   ]
  },
  {
   "cell_type": "code",
   "execution_count": 36,
   "id": "fa384966",
   "metadata": {
    "ExecuteTime": {
     "end_time": "2023-02-18T10:41:36.458036Z",
     "start_time": "2023-02-18T10:41:36.162480Z"
    }
   },
   "outputs": [
    {
     "name": "stdout",
     "output_type": "stream",
     "text": [
      "mean 101.894\n",
      "median 96.54\n"
     ]
    },
    {
     "data": {
      "image/png": "[encoded data removed]",
      "text/plain": [
       "<Figure size 640x480 with 1 Axes>"
      ]
     },
     "metadata": {},
     "output_type": "display_data"
    }
   ],
   "source": [
    "sns.distplot(wcat.AT, label='Adipose Tissue')\n",
    "mpl.xlabel('Adipose Tissue')\n",
    "mpl.ylabel(' Distribution')\n",
    "mpl.legend();\n",
    "print(\"mean\",round(wcat.AT.mean(),4))\n",
    "print(\"median\",round(wcat.AT.median(),4))"
   ]
  },
  {
   "cell_type": "code",
   "execution_count": 37,
   "id": "6f9ba1c6",
   "metadata": {
    "ExecuteTime": {
     "end_time": "2023-02-18T10:41:48.711305Z",
     "start_time": "2023-02-18T10:41:48.296925Z"
    }
   },
   "outputs": [
    {
     "name": "stdout",
     "output_type": "stream",
     "text": [
      "mean 91.9018\n",
      "median 90.8\n"
     ]
    },
    {
     "data": {
      "image/png": "[encoded data removed]",
      "text/plain": [
       "<Figure size 640x480 with 1 Axes>"
      ]
     },
     "metadata": {},
     "output_type": "display_data"
    }
   ],
   "source": [
    "sns.distplot(wcat.Waist, label='Waist')\n",
    "mpl.xlabel('Waist circumference ',color=\"hotpink\")\n",
    "mpl.ylabel(' Distribution',color=\"hotpink\")\n",
    "mpl.legend();\n",
    "print(\"mean\",round(wcat.Waist.mean(),4))\n",
    "print(\"median\",round(wcat.Waist.median(),4))"
   ]
  },
  {
   "cell_type": "markdown",
   "id": "369f136a",
   "metadata": {},
   "source": [
    "# Q-22"
   ]
  },
  {
   "cell_type": "code",
   "execution_count": 38,
   "id": "f224bb78",
   "metadata": {
    "ExecuteTime": {
     "end_time": "2023-02-18T10:42:28.304283Z",
     "start_time": "2023-02-18T10:42:28.280187Z"
    }
   },
   "outputs": [
    {
     "name": "stdout",
     "output_type": "stream",
     "text": [
      "The Z score for the confidence interval of 90% is : 1.6448536269514722\n",
      "The Z score for the confidence interval of 94% is : 1.8807936081512509\n",
      "The Z score for the confidence interval of 60% is : 0.8416212335729143\n"
     ]
    }
   ],
   "source": [
    "print(\"The Z score for the confidence interval of 90% is :\",stats.norm.ppf(.95))\n",
    "print(\"The Z score for the confidence interval of 94% is :\",stats.norm.ppf(.97))\n",
    "print(\"The Z score for the confidence interval of 60% is :\",stats.norm.ppf(.8))"
   ]
  },
  {
   "cell_type": "markdown",
   "id": "550db997",
   "metadata": {},
   "source": [
    "# Q-23"
   ]
  },
  {
   "cell_type": "code",
   "execution_count": 39,
   "id": "d22d51f2",
   "metadata": {
    "ExecuteTime": {
     "end_time": "2023-02-18T10:43:04.362647Z",
     "start_time": "2023-02-18T10:43:04.322076Z"
    }
   },
   "outputs": [
    {
     "name": "stdout",
     "output_type": "stream",
     "text": [
      "T-scores of 95% confidence interval 2.0638985616280205\n",
      "T-scores of 96% confidence interval 2.1715446760080677\n",
      "T-scores of 99% confidence interval 2.796939504772804\n"
     ]
    }
   ],
   "source": [
    "print(\"T-scores of 95% confidence interval\",stats.t.ppf(0.975,24))\n",
    "print(\"T-scores of 96% confidence interval\",stats.t.ppf(0.98,24))\n",
    "print(\"T-scores of 99% confidence interval\",stats.t.ppf(0.995,24))"
   ]
  },
  {
   "cell_type": "markdown",
   "id": "d5ecb662",
   "metadata": {},
   "source": [
    "# Q-24"
   ]
  },
  {
   "cell_type": "code",
   "execution_count": 40,
   "id": "9be9272a",
   "metadata": {
    "ExecuteTime": {
     "end_time": "2023-02-18T10:43:42.855804Z",
     "start_time": "2023-02-18T10:43:42.831980Z"
    }
   },
   "outputs": [
    {
     "name": "stdout",
     "output_type": "stream",
     "text": [
      "T-scores  0.32181403316850754\n"
     ]
    }
   ],
   "source": [
    "print(\"T-scores \",1-(stats.t.cdf(.471,17)))"
   ]
  },
  {
   "cell_type": "code",
   "execution_count": null,
   "id": "8c405986",
   "metadata": {},
   "outputs": [],
   "source": []
  }
 ],
 "metadata": {
  "kernelspec": {
   "display_name": "Python 3 (ipykernel)",
   "language": "python",
   "name": "python3"
  },
  "language_info": {
   "codemirror_mode": {
    "name": "ipython",
    "version": 3
   },
   "file_extension": ".py",
   "mimetype": "text/x-python",
   "name": "python",
   "nbconvert_exporter": "python",
   "pygments_lexer": "ipython3",
   "version": "3.9.13"
  }
 },
 "nbformat": 4,
 "nbformat_minor": 5
}
